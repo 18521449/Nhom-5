{
  "nbformat": 4,
  "nbformat_minor": 0,
  "metadata": {
    "colab": {
      "name": "car_moto_vgg16.ipynb",
      "provenance": []
    },
    "kernelspec": {
      "name": "python3",
      "display_name": "Python 3"
    },
    "language_info": {
      "name": "python"
    },
    "accelerator": "GPU"
  },
  "cells": [
    {
      "cell_type": "code",
      "metadata": {
        "id": "33nNwHjib5DB"
      },
      "source": [
        "import os\n",
        "import numpy as np \n",
        "import pandas as pd \n",
        "import tensorflow as tf\n",
        "from tensorflow.keras.models import Sequential\n",
        "from tensorflow.keras.layers import Dense, Activation, Dropout, Flatten\n",
        "from tensorflow.keras.layers import Conv2D\n",
        "from tensorflow.keras.layers import MaxPooling2D\n",
        "from sklearn.model_selection import train_test_split\n",
        "from keras.preprocessing.image import ImageDataGenerator\n",
        "import matplotlib.pyplot as plt"
      ],
      "execution_count": null,
      "outputs": []
    },
    {
      "cell_type": "code",
      "metadata": {
        "id": "ItWiCqKtcMLM"
      },
      "source": [
        "from zipfile import ZipFile\n",
        "ZipFile(\"/content/drive/MyDrive/Project_CE434/Car_moto_vgg16/test1.zip\",\"r\").extractall()\n",
        "ZipFile(\"/content/drive/MyDrive/Project_CE434/Car_moto_vgg16/training1.zip\", \"r\").extractall()\n",
        "ZipFile(\"/content/drive/MyDrive/Project_CE434/Car_moto_vgg16/validate1.zip\", \"r\").extractall()"
      ],
      "execution_count": null,
      "outputs": []
    },
    {
      "cell_type": "code",
      "metadata": {
        "id": "aB9Q0Hw_cgrt"
      },
      "source": [
        "TRAIN_PATH = './training1'\n",
        "TEST_PATH = './test1'\n",
        "VALID_PATH = './validate1'\n",
        "MODELS_PATH = '/content/drive/MyDrive/Project_CE434/Car_moto_vgg16/model/'\n",
        "VISUALIZE_PATH = '/content/drive/MyDrive/Project_CE434/Car_moto_vgg16/visualize/'\n",
        "WIDTH = 224\n",
        "HEIGHT = 224\n",
        "EPOCHS = 20\n",
        "BATCH_SIZE = 32"
      ],
      "execution_count": null,
      "outputs": []
    },
    {
      "cell_type": "code",
      "metadata": {
        "id": "lCR-2yWjcpw7"
      },
      "source": [
        "from tensorflow.keras.preprocessing import image\n",
        "train_generator = image.ImageDataGenerator(\n",
        "    rescale = 1./255,  \n",
        "    width_shift_range = 0.2, \n",
        "    height_shift_range = 0.2,\n",
        "    zoom_range = 0.2,\n",
        "    rotation_range = 15\n",
        ")\n",
        "test_generator = image.ImageDataGenerator(\n",
        "    rescale = 1./255,    \n",
        "    width_shift_range = 0.2, \n",
        "    height_shift_range = 0.2,\n",
        "    zoom_range = 0.2,\n",
        "    rotation_range = 15\n",
        ")\n",
        "valid_generator = image.ImageDataGenerator(\n",
        "    rescale = 1./255,\n",
        "    width_shift_range = 0.2,\n",
        "    height_shift_range = 0.2,\n",
        "    zoom_range = 0.2,\n",
        "    rotation_range = 15\n",
        ")"
      ],
      "execution_count": null,
      "outputs": []
    },
    {
      "cell_type": "code",
      "metadata": {
        "colab": {
          "base_uri": "https://localhost:8080/"
        },
        "id": "eT6m4d_ictZ9",
        "outputId": "92b38ac8-97df-4139-bed4-677443a4a729"
      },
      "source": [
        "generated_train_data = train_generator.flow_from_directory(\n",
        "    TRAIN_PATH,\n",
        "    target_size = (WIDTH, HEIGHT),\n",
        "    batch_size = BATCH_SIZE,\n",
        "    class_mode = 'categorical',\n",
        "    shuffle = True, \n",
        "    seed=42\n",
        ")"
      ],
      "execution_count": null,
      "outputs": [
        {
          "output_type": "stream",
          "text": [
            "Found 2000 images belonging to 2 classes.\n"
          ],
          "name": "stdout"
        }
      ]
    },
    {
      "cell_type": "code",
      "metadata": {
        "colab": {
          "base_uri": "https://localhost:8080/"
        },
        "id": "lqqkTvDLBEHr",
        "outputId": "a8d216c2-9d44-4b7c-d9fb-21f33f4d702a"
      },
      "source": [
        "generated_valid_data = valid_generator.flow_from_directory(\n",
        "    VALID_PATH,\n",
        "    target_size = (WIDTH, HEIGHT),\n",
        "    batch_size = BATCH_SIZE,\n",
        "    class_mode = 'categorical',\n",
        "    shuffle = True,\n",
        "    seed=42\n",
        ")"
      ],
      "execution_count": null,
      "outputs": [
        {
          "output_type": "stream",
          "text": [
            "Found 360 images belonging to 2 classes.\n"
          ],
          "name": "stdout"
        }
      ]
    },
    {
      "cell_type": "code",
      "metadata": {
        "colab": {
          "base_uri": "https://localhost:8080/"
        },
        "id": "8f3Nut46BJXK",
        "outputId": "229706d0-cd0f-4c62-adb7-ce0456f1f5ed"
      },
      "source": [
        "generated_test_data = test_generator.flow_from_directory(\n",
        "    TEST_PATH,\n",
        "    target_size = (WIDTH, HEIGHT),\n",
        "    class_mode = 'categorical',\n",
        "    shuffle = False,\n",
        ")"
      ],
      "execution_count": null,
      "outputs": [
        {
          "output_type": "stream",
          "text": [
            "Found 500 images belonging to 2 classes.\n"
          ],
          "name": "stdout"
        }
      ]
    },
    {
      "cell_type": "code",
      "metadata": {
        "id": "vp9rF8_cCmJa"
      },
      "source": [
        "import os\n",
        "import numpy as np\n",
        "import pandas as pd\n",
        "import matplotlib.pyplot as plt\n",
        "from tensorflow.keras.models import Sequential\n",
        "from tensorflow.keras.layers import Conv2D, BatchNormalization, MaxPooling2D, Flatten, Dense, Dropout, Input\n",
        "from keras.applications.vgg16 import VGG16\n",
        "from keras.models import Model\n",
        "from keras.preprocessing.image import ImageDataGenerator"
      ],
      "execution_count": null,
      "outputs": []
    },
    {
      "cell_type": "code",
      "metadata": {
        "id": "3UNg8cVLCqnC"
      },
      "source": [
        "pre_trained_model = VGG16(input_shape = (WIDTH, HEIGHT, 3), include_top = False, weights = 'imagenet')"
      ],
      "execution_count": null,
      "outputs": []
    },
    {
      "cell_type": "code",
      "metadata": {
        "id": "-YebgN_bC-TK"
      },
      "source": [
        "# Dong bang cac layer\n",
        "for layer in pre_trained_model.layers:\n",
        "      layer.trainable = False\n",
        "\n",
        "# Tao model\n",
        "input = Input(shape=(WIDTH, HEIGHT, 3), name='image_input')\n",
        "output_vgg16_conv = pre_trained_model(input)\n",
        "\n",
        "# Them cac layer FC va Dropout\n",
        "x = Flatten(name='flatten')(output_vgg16_conv)\n",
        "x = Dense(4096, activation='relu', name='fc1')(x)\n",
        "x = Dropout(0.5)(x)\n",
        "x = Dense(4096, activation='relu', name='fc2')(x)\n",
        "x = Dropout(0.5)(x)\n",
        "x = Dense(2, activation='softmax', name='predictions')(x)"
      ],
      "execution_count": null,
      "outputs": []
    },
    {
      "cell_type": "code",
      "metadata": {
        "id": "oRt1GkiDDBfi"
      },
      "source": [
        "# Compile\n",
        "from tensorflow.keras.optimizers import Adam\n",
        "my_model = Model(inputs=input, outputs=x)\n",
        "my_model.compile(optimizer = Adam(lr = 1e-5), loss = 'categorical_crossentropy', metrics = ['accuracy'])"
      ],
      "execution_count": null,
      "outputs": []
    },
    {
      "cell_type": "code",
      "metadata": {
        "colab": {
          "base_uri": "https://localhost:8080/"
        },
        "id": "_uFMpEuhDFbS",
        "outputId": "38677950-4f59-45a9-89b1-becfd9e05856"
      },
      "source": [
        "vgg16_history = my_model.fit(\n",
        "    generated_train_data, \n",
        "    validation_data = generated_valid_data,\n",
        "    validation_steps = generated_valid_data.n // BATCH_SIZE,\n",
        "    steps_per_epoch = generated_train_data.n  // BATCH_SIZE,\n",
        "    epochs = EPOCHS,\n",
        "    verbose = 1\n",
        ")\n",
        "my_model.save(MODELS_PATH + 'vgg16.h5')"
      ],
      "execution_count": null,
      "outputs": [
        {
          "output_type": "stream",
          "text": [
            "Epoch 1/20\n",
            "62/62 [==============================] - 75s 894ms/step - loss: 0.5899 - accuracy: 0.6919 - val_loss: 0.0958 - val_accuracy: 0.9744\n",
            "Epoch 2/20\n",
            "62/62 [==============================] - 51s 816ms/step - loss: 0.1764 - accuracy: 0.9394 - val_loss: 0.0425 - val_accuracy: 0.9943\n",
            "Epoch 3/20\n",
            "62/62 [==============================] - 51s 814ms/step - loss: 0.1282 - accuracy: 0.9519 - val_loss: 0.0355 - val_accuracy: 0.9915\n",
            "Epoch 4/20\n",
            "62/62 [==============================] - 51s 821ms/step - loss: 0.0959 - accuracy: 0.9674 - val_loss: 0.0247 - val_accuracy: 0.9886\n",
            "Epoch 5/20\n",
            "62/62 [==============================] - 52s 831ms/step - loss: 0.0755 - accuracy: 0.9724 - val_loss: 0.0219 - val_accuracy: 0.9915\n",
            "Epoch 6/20\n",
            "62/62 [==============================] - 52s 832ms/step - loss: 0.0634 - accuracy: 0.9730 - val_loss: 0.0160 - val_accuracy: 0.9972\n",
            "Epoch 7/20\n",
            "62/62 [==============================] - 51s 829ms/step - loss: 0.0464 - accuracy: 0.9837 - val_loss: 0.0112 - val_accuracy: 0.9972\n",
            "Epoch 8/20\n",
            "62/62 [==============================] - 52s 834ms/step - loss: 0.0452 - accuracy: 0.9849 - val_loss: 0.0192 - val_accuracy: 0.9886\n",
            "Epoch 9/20\n",
            "62/62 [==============================] - 51s 824ms/step - loss: 0.0467 - accuracy: 0.9800 - val_loss: 0.0094 - val_accuracy: 1.0000\n",
            "Epoch 10/20\n",
            "62/62 [==============================] - 51s 821ms/step - loss: 0.0449 - accuracy: 0.9853 - val_loss: 0.0050 - val_accuracy: 1.0000\n",
            "Epoch 11/20\n",
            "62/62 [==============================] - 50s 812ms/step - loss: 0.0304 - accuracy: 0.9888 - val_loss: 0.0048 - val_accuracy: 1.0000\n",
            "Epoch 12/20\n",
            "62/62 [==============================] - 50s 814ms/step - loss: 0.0406 - accuracy: 0.9864 - val_loss: 0.0068 - val_accuracy: 1.0000\n",
            "Epoch 13/20\n",
            "62/62 [==============================] - 51s 820ms/step - loss: 0.0385 - accuracy: 0.9845 - val_loss: 0.0140 - val_accuracy: 0.9915\n",
            "Epoch 14/20\n",
            "62/62 [==============================] - 51s 818ms/step - loss: 0.0458 - accuracy: 0.9818 - val_loss: 0.0106 - val_accuracy: 0.9972\n",
            "Epoch 15/20\n",
            "62/62 [==============================] - 51s 819ms/step - loss: 0.0248 - accuracy: 0.9913 - val_loss: 0.0076 - val_accuracy: 1.0000\n",
            "Epoch 16/20\n",
            "62/62 [==============================] - 51s 821ms/step - loss: 0.0245 - accuracy: 0.9922 - val_loss: 0.0119 - val_accuracy: 0.9972\n",
            "Epoch 17/20\n",
            "62/62 [==============================] - 51s 814ms/step - loss: 0.0292 - accuracy: 0.9896 - val_loss: 0.0119 - val_accuracy: 0.9943\n",
            "Epoch 18/20\n",
            "62/62 [==============================] - 50s 814ms/step - loss: 0.0278 - accuracy: 0.9923 - val_loss: 0.0049 - val_accuracy: 1.0000\n",
            "Epoch 19/20\n",
            "62/62 [==============================] - 50s 803ms/step - loss: 0.0243 - accuracy: 0.9911 - val_loss: 0.0113 - val_accuracy: 0.9972\n",
            "Epoch 20/20\n",
            "62/62 [==============================] - 49s 796ms/step - loss: 0.0282 - accuracy: 0.9885 - val_loss: 0.0100 - val_accuracy: 0.9943\n"
          ],
          "name": "stdout"
        }
      ]
    },
    {
      "cell_type": "code",
      "metadata": {
        "colab": {
          "base_uri": "https://localhost:8080/"
        },
        "id": "B9NYo5pt7tmM",
        "outputId": "ef4f046d-690f-408d-c29f-966f1be824ae"
      },
      "source": [
        "y_test = generated_test_data.classes\n",
        "y_pred_vgg16 = my_model.predict(generated_test_data, verbose = 1)"
      ],
      "execution_count": null,
      "outputs": [
        {
          "output_type": "stream",
          "text": [
            "16/16 [==============================] - 20s 1s/step\n"
          ],
          "name": "stdout"
        }
      ]
    },
    {
      "cell_type": "code",
      "metadata": {
        "colab": {
          "base_uri": "https://localhost:8080/"
        },
        "id": "9sKD5Nor74hS",
        "outputId": "228cb83f-2898-477a-9da2-127dc82b2588"
      },
      "source": [
        "generated_train_data.class_indices.items()"
      ],
      "execution_count": null,
      "outputs": [
        {
          "output_type": "execute_result",
          "data": {
            "text/plain": [
              "dict_items([('car', 0), ('moto', 1)])"
            ]
          },
          "metadata": {
            "tags": []
          },
          "execution_count": 15
        }
      ]
    },
    {
      "cell_type": "code",
      "metadata": {
        "colab": {
          "base_uri": "https://localhost:8080/",
          "height": 639
        },
        "id": "T-h9tK2v8W5r",
        "outputId": "5bf41092-a148-4d13-8cda-ab33f16abdbd"
      },
      "source": [
        "df = pd.DataFrame({\n",
        "    'Actual'     : generated_test_data.filenames, \n",
        "    'VGG16 prediction' : np.argmax(y_pred_vgg16, axis=1)\n",
        "})  \n",
        "df.head(20)"
      ],
      "execution_count": null,
      "outputs": [
        {
          "output_type": "execute_result",
          "data": {
            "text/html": [
              "<div>\n",
              "<style scoped>\n",
              "    .dataframe tbody tr th:only-of-type {\n",
              "        vertical-align: middle;\n",
              "    }\n",
              "\n",
              "    .dataframe tbody tr th {\n",
              "        vertical-align: top;\n",
              "    }\n",
              "\n",
              "    .dataframe thead th {\n",
              "        text-align: right;\n",
              "    }\n",
              "</style>\n",
              "<table border=\"1\" class=\"dataframe\">\n",
              "  <thead>\n",
              "    <tr style=\"text-align: right;\">\n",
              "      <th></th>\n",
              "      <th>Actual</th>\n",
              "      <th>VGG16 prediction</th>\n",
              "    </tr>\n",
              "  </thead>\n",
              "  <tbody>\n",
              "    <tr>\n",
              "      <th>0</th>\n",
              "      <td>car/car.1.jpg</td>\n",
              "      <td>0</td>\n",
              "    </tr>\n",
              "    <tr>\n",
              "      <th>1</th>\n",
              "      <td>car/car.10.jpg</td>\n",
              "      <td>0</td>\n",
              "    </tr>\n",
              "    <tr>\n",
              "      <th>2</th>\n",
              "      <td>car/car.100.jpg</td>\n",
              "      <td>0</td>\n",
              "    </tr>\n",
              "    <tr>\n",
              "      <th>3</th>\n",
              "      <td>car/car.101.jpg</td>\n",
              "      <td>0</td>\n",
              "    </tr>\n",
              "    <tr>\n",
              "      <th>4</th>\n",
              "      <td>car/car.102.jpg</td>\n",
              "      <td>0</td>\n",
              "    </tr>\n",
              "    <tr>\n",
              "      <th>5</th>\n",
              "      <td>car/car.103.jpg</td>\n",
              "      <td>0</td>\n",
              "    </tr>\n",
              "    <tr>\n",
              "      <th>6</th>\n",
              "      <td>car/car.104.jpg</td>\n",
              "      <td>0</td>\n",
              "    </tr>\n",
              "    <tr>\n",
              "      <th>7</th>\n",
              "      <td>car/car.105.jpg</td>\n",
              "      <td>0</td>\n",
              "    </tr>\n",
              "    <tr>\n",
              "      <th>8</th>\n",
              "      <td>car/car.106.jpg</td>\n",
              "      <td>0</td>\n",
              "    </tr>\n",
              "    <tr>\n",
              "      <th>9</th>\n",
              "      <td>car/car.107.jpg</td>\n",
              "      <td>0</td>\n",
              "    </tr>\n",
              "    <tr>\n",
              "      <th>10</th>\n",
              "      <td>car/car.108.jpg</td>\n",
              "      <td>0</td>\n",
              "    </tr>\n",
              "    <tr>\n",
              "      <th>11</th>\n",
              "      <td>car/car.109.jpg</td>\n",
              "      <td>0</td>\n",
              "    </tr>\n",
              "    <tr>\n",
              "      <th>12</th>\n",
              "      <td>car/car.11.jpg</td>\n",
              "      <td>0</td>\n",
              "    </tr>\n",
              "    <tr>\n",
              "      <th>13</th>\n",
              "      <td>car/car.110.jpg</td>\n",
              "      <td>0</td>\n",
              "    </tr>\n",
              "    <tr>\n",
              "      <th>14</th>\n",
              "      <td>car/car.111.jpg</td>\n",
              "      <td>0</td>\n",
              "    </tr>\n",
              "    <tr>\n",
              "      <th>15</th>\n",
              "      <td>car/car.112.jpg</td>\n",
              "      <td>0</td>\n",
              "    </tr>\n",
              "    <tr>\n",
              "      <th>16</th>\n",
              "      <td>car/car.113.jpg</td>\n",
              "      <td>0</td>\n",
              "    </tr>\n",
              "    <tr>\n",
              "      <th>17</th>\n",
              "      <td>car/car.114.jpg</td>\n",
              "      <td>0</td>\n",
              "    </tr>\n",
              "    <tr>\n",
              "      <th>18</th>\n",
              "      <td>car/car.115.jpg</td>\n",
              "      <td>0</td>\n",
              "    </tr>\n",
              "    <tr>\n",
              "      <th>19</th>\n",
              "      <td>car/car.116.jpg</td>\n",
              "      <td>0</td>\n",
              "    </tr>\n",
              "  </tbody>\n",
              "</table>\n",
              "</div>"
            ],
            "text/plain": [
              "             Actual  VGG16 prediction\n",
              "0     car/car.1.jpg                 0\n",
              "1    car/car.10.jpg                 0\n",
              "2   car/car.100.jpg                 0\n",
              "3   car/car.101.jpg                 0\n",
              "4   car/car.102.jpg                 0\n",
              "5   car/car.103.jpg                 0\n",
              "6   car/car.104.jpg                 0\n",
              "7   car/car.105.jpg                 0\n",
              "8   car/car.106.jpg                 0\n",
              "9   car/car.107.jpg                 0\n",
              "10  car/car.108.jpg                 0\n",
              "11  car/car.109.jpg                 0\n",
              "12   car/car.11.jpg                 0\n",
              "13  car/car.110.jpg                 0\n",
              "14  car/car.111.jpg                 0\n",
              "15  car/car.112.jpg                 0\n",
              "16  car/car.113.jpg                 0\n",
              "17  car/car.114.jpg                 0\n",
              "18  car/car.115.jpg                 0\n",
              "19  car/car.116.jpg                 0"
            ]
          },
          "metadata": {
            "tags": []
          },
          "execution_count": 16
        }
      ]
    },
    {
      "cell_type": "code",
      "metadata": {
        "colab": {
          "base_uri": "https://localhost:8080/",
          "height": 639
        },
        "id": "H-pOx_3B8dLB",
        "outputId": "c1d2303c-3c5f-4d0d-ddfb-055fce2cde9c"
      },
      "source": [
        "df.tail(20)"
      ],
      "execution_count": null,
      "outputs": [
        {
          "output_type": "execute_result",
          "data": {
            "text/html": [
              "<div>\n",
              "<style scoped>\n",
              "    .dataframe tbody tr th:only-of-type {\n",
              "        vertical-align: middle;\n",
              "    }\n",
              "\n",
              "    .dataframe tbody tr th {\n",
              "        vertical-align: top;\n",
              "    }\n",
              "\n",
              "    .dataframe thead th {\n",
              "        text-align: right;\n",
              "    }\n",
              "</style>\n",
              "<table border=\"1\" class=\"dataframe\">\n",
              "  <thead>\n",
              "    <tr style=\"text-align: right;\">\n",
              "      <th></th>\n",
              "      <th>Actual</th>\n",
              "      <th>VGG16 prediction</th>\n",
              "    </tr>\n",
              "  </thead>\n",
              "  <tbody>\n",
              "    <tr>\n",
              "      <th>480</th>\n",
              "      <td>moto/moto.81.jpg</td>\n",
              "      <td>1</td>\n",
              "    </tr>\n",
              "    <tr>\n",
              "      <th>481</th>\n",
              "      <td>moto/moto.82.jpg</td>\n",
              "      <td>1</td>\n",
              "    </tr>\n",
              "    <tr>\n",
              "      <th>482</th>\n",
              "      <td>moto/moto.83.jpg</td>\n",
              "      <td>1</td>\n",
              "    </tr>\n",
              "    <tr>\n",
              "      <th>483</th>\n",
              "      <td>moto/moto.84.jpg</td>\n",
              "      <td>1</td>\n",
              "    </tr>\n",
              "    <tr>\n",
              "      <th>484</th>\n",
              "      <td>moto/moto.85.jpg</td>\n",
              "      <td>1</td>\n",
              "    </tr>\n",
              "    <tr>\n",
              "      <th>485</th>\n",
              "      <td>moto/moto.86.jpg</td>\n",
              "      <td>1</td>\n",
              "    </tr>\n",
              "    <tr>\n",
              "      <th>486</th>\n",
              "      <td>moto/moto.87.jpg</td>\n",
              "      <td>1</td>\n",
              "    </tr>\n",
              "    <tr>\n",
              "      <th>487</th>\n",
              "      <td>moto/moto.88.jpg</td>\n",
              "      <td>1</td>\n",
              "    </tr>\n",
              "    <tr>\n",
              "      <th>488</th>\n",
              "      <td>moto/moto.89.jpg</td>\n",
              "      <td>1</td>\n",
              "    </tr>\n",
              "    <tr>\n",
              "      <th>489</th>\n",
              "      <td>moto/moto.9.jpg</td>\n",
              "      <td>1</td>\n",
              "    </tr>\n",
              "    <tr>\n",
              "      <th>490</th>\n",
              "      <td>moto/moto.90.jpg</td>\n",
              "      <td>1</td>\n",
              "    </tr>\n",
              "    <tr>\n",
              "      <th>491</th>\n",
              "      <td>moto/moto.91.jpg</td>\n",
              "      <td>1</td>\n",
              "    </tr>\n",
              "    <tr>\n",
              "      <th>492</th>\n",
              "      <td>moto/moto.92.jpg</td>\n",
              "      <td>1</td>\n",
              "    </tr>\n",
              "    <tr>\n",
              "      <th>493</th>\n",
              "      <td>moto/moto.93.jpg</td>\n",
              "      <td>1</td>\n",
              "    </tr>\n",
              "    <tr>\n",
              "      <th>494</th>\n",
              "      <td>moto/moto.94.jpg</td>\n",
              "      <td>1</td>\n",
              "    </tr>\n",
              "    <tr>\n",
              "      <th>495</th>\n",
              "      <td>moto/moto.95.jpg</td>\n",
              "      <td>1</td>\n",
              "    </tr>\n",
              "    <tr>\n",
              "      <th>496</th>\n",
              "      <td>moto/moto.96.jpg</td>\n",
              "      <td>1</td>\n",
              "    </tr>\n",
              "    <tr>\n",
              "      <th>497</th>\n",
              "      <td>moto/moto.97.jpg</td>\n",
              "      <td>1</td>\n",
              "    </tr>\n",
              "    <tr>\n",
              "      <th>498</th>\n",
              "      <td>moto/moto.98.jpg</td>\n",
              "      <td>1</td>\n",
              "    </tr>\n",
              "    <tr>\n",
              "      <th>499</th>\n",
              "      <td>moto/moto.99.jpg</td>\n",
              "      <td>1</td>\n",
              "    </tr>\n",
              "  </tbody>\n",
              "</table>\n",
              "</div>"
            ],
            "text/plain": [
              "               Actual  VGG16 prediction\n",
              "480  moto/moto.81.jpg                 1\n",
              "481  moto/moto.82.jpg                 1\n",
              "482  moto/moto.83.jpg                 1\n",
              "483  moto/moto.84.jpg                 1\n",
              "484  moto/moto.85.jpg                 1\n",
              "485  moto/moto.86.jpg                 1\n",
              "486  moto/moto.87.jpg                 1\n",
              "487  moto/moto.88.jpg                 1\n",
              "488  moto/moto.89.jpg                 1\n",
              "489   moto/moto.9.jpg                 1\n",
              "490  moto/moto.90.jpg                 1\n",
              "491  moto/moto.91.jpg                 1\n",
              "492  moto/moto.92.jpg                 1\n",
              "493  moto/moto.93.jpg                 1\n",
              "494  moto/moto.94.jpg                 1\n",
              "495  moto/moto.95.jpg                 1\n",
              "496  moto/moto.96.jpg                 1\n",
              "497  moto/moto.97.jpg                 1\n",
              "498  moto/moto.98.jpg                 1\n",
              "499  moto/moto.99.jpg                 1"
            ]
          },
          "metadata": {
            "tags": []
          },
          "execution_count": 17
        }
      ]
    },
    {
      "cell_type": "code",
      "metadata": {
        "id": "6bJQi5F18iBx"
      },
      "source": [
        "def plot_history(history, model_name = ''):\n",
        "\n",
        "    fig, axes = plt.subplots(1, 2, figsize = (15, 5))\n",
        "    \n",
        "    axes[0].plot(history.history['accuracy'], linestyle = 'solid', marker = 'o', color = 'crimson', label = 'Train')\n",
        "    axes[0].plot(history.history['val_accuracy'], linestyle = 'solid', marker = 'o', color = 'dodgerblue', label = 'Test')\n",
        "    axes[0].set_xlabel('Epochs', fontsize = 14)\n",
        "    axes[0].set_ylabel('Accuracy',fontsize = 14)\n",
        "    axes[0].set_title(model_name + ' accuracy', fontsize = 14)\n",
        "    axes[0].legend(loc = 'best')\n",
        "    \n",
        "    axes[1].plot(history.history['loss'], linestyle = 'solid', marker = 'o', color = 'crimson', label = 'Train')\n",
        "    axes[1].plot(history.history['val_loss'], linestyle = 'solid', marker = 'o', color = 'dodgerblue', label = 'Test')\n",
        "    axes[1].set_xlabel('Epochs', fontsize = 14)\n",
        "    axes[1].set_ylabel('Loss',fontsize = 14)\n",
        "    axes[1].set_title(model_name + ' loss', fontsize = 14)\n",
        "    axes[1].legend(loc = 'best')\n",
        "    \n",
        "    fig.savefig(VISUALIZE_PATH + model_name + ' evaluation.png', bbox_inches = 'tight') \n",
        "    plt.show()"
      ],
      "execution_count": null,
      "outputs": []
    },
    {
      "cell_type": "code",
      "metadata": {
        "colab": {
          "base_uri": "https://localhost:8080/",
          "height": 642
        },
        "id": "CFEn4L6A8sS7",
        "outputId": "ae46c9c9-7d20-4dd9-89d1-9a38fd0b73a2"
      },
      "source": [
        "plot_history(vgg16_history, 'VGG16')\n"
      ],
      "execution_count": null,
      "outputs": [
        {
          "output_type": "error",
          "ename": "FileNotFoundError",
          "evalue": "ignored",
          "traceback": [
            "\u001b[0;31m---------------------------------------------------------------------------\u001b[0m",
            "\u001b[0;31mFileNotFoundError\u001b[0m                         Traceback (most recent call last)",
            "\u001b[0;32m<ipython-input-19-9aabd1b45e5e>\u001b[0m in \u001b[0;36m<module>\u001b[0;34m()\u001b[0m\n\u001b[0;32m----> 1\u001b[0;31m \u001b[0mplot_history\u001b[0m\u001b[0;34m(\u001b[0m\u001b[0mvgg16_history\u001b[0m\u001b[0;34m,\u001b[0m \u001b[0;34m'VGG16'\u001b[0m\u001b[0;34m)\u001b[0m\u001b[0;34m\u001b[0m\u001b[0;34m\u001b[0m\u001b[0m\n\u001b[0m",
            "\u001b[0;32m<ipython-input-18-0cd8c81014b6>\u001b[0m in \u001b[0;36mplot_history\u001b[0;34m(history, model_name)\u001b[0m\n\u001b[1;32m     17\u001b[0m     \u001b[0maxes\u001b[0m\u001b[0;34m[\u001b[0m\u001b[0;36m1\u001b[0m\u001b[0;34m]\u001b[0m\u001b[0;34m.\u001b[0m\u001b[0mlegend\u001b[0m\u001b[0;34m(\u001b[0m\u001b[0mloc\u001b[0m \u001b[0;34m=\u001b[0m \u001b[0;34m'best'\u001b[0m\u001b[0;34m)\u001b[0m\u001b[0;34m\u001b[0m\u001b[0;34m\u001b[0m\u001b[0m\n\u001b[1;32m     18\u001b[0m \u001b[0;34m\u001b[0m\u001b[0m\n\u001b[0;32m---> 19\u001b[0;31m     \u001b[0mfig\u001b[0m\u001b[0;34m.\u001b[0m\u001b[0msavefig\u001b[0m\u001b[0;34m(\u001b[0m\u001b[0mVISUALIZE_PATH\u001b[0m \u001b[0;34m+\u001b[0m \u001b[0mmodel_name\u001b[0m \u001b[0;34m+\u001b[0m \u001b[0;34m' evaluation.png'\u001b[0m\u001b[0;34m,\u001b[0m \u001b[0mbbox_inches\u001b[0m \u001b[0;34m=\u001b[0m \u001b[0;34m'tight'\u001b[0m\u001b[0;34m)\u001b[0m\u001b[0;34m\u001b[0m\u001b[0;34m\u001b[0m\u001b[0m\n\u001b[0m\u001b[1;32m     20\u001b[0m     \u001b[0mplt\u001b[0m\u001b[0;34m.\u001b[0m\u001b[0mshow\u001b[0m\u001b[0;34m(\u001b[0m\u001b[0;34m)\u001b[0m\u001b[0;34m\u001b[0m\u001b[0;34m\u001b[0m\u001b[0m\n",
            "\u001b[0;32m/usr/local/lib/python3.7/dist-packages/matplotlib/figure.py\u001b[0m in \u001b[0;36msavefig\u001b[0;34m(self, fname, transparent, **kwargs)\u001b[0m\n\u001b[1;32m   2201\u001b[0m             \u001b[0mself\u001b[0m\u001b[0;34m.\u001b[0m\u001b[0mpatch\u001b[0m\u001b[0;34m.\u001b[0m\u001b[0mset_visible\u001b[0m\u001b[0;34m(\u001b[0m\u001b[0mframeon\u001b[0m\u001b[0;34m)\u001b[0m\u001b[0;34m\u001b[0m\u001b[0;34m\u001b[0m\u001b[0m\n\u001b[1;32m   2202\u001b[0m \u001b[0;34m\u001b[0m\u001b[0m\n\u001b[0;32m-> 2203\u001b[0;31m         \u001b[0mself\u001b[0m\u001b[0;34m.\u001b[0m\u001b[0mcanvas\u001b[0m\u001b[0;34m.\u001b[0m\u001b[0mprint_figure\u001b[0m\u001b[0;34m(\u001b[0m\u001b[0mfname\u001b[0m\u001b[0;34m,\u001b[0m \u001b[0;34m**\u001b[0m\u001b[0mkwargs\u001b[0m\u001b[0;34m)\u001b[0m\u001b[0;34m\u001b[0m\u001b[0;34m\u001b[0m\u001b[0m\n\u001b[0m\u001b[1;32m   2204\u001b[0m \u001b[0;34m\u001b[0m\u001b[0m\n\u001b[1;32m   2205\u001b[0m         \u001b[0;32mif\u001b[0m \u001b[0mframeon\u001b[0m\u001b[0;34m:\u001b[0m\u001b[0;34m\u001b[0m\u001b[0;34m\u001b[0m\u001b[0m\n",
            "\u001b[0;32m/usr/local/lib/python3.7/dist-packages/matplotlib/backend_bases.py\u001b[0m in \u001b[0;36mprint_figure\u001b[0;34m(self, filename, dpi, facecolor, edgecolor, orientation, format, bbox_inches, **kwargs)\u001b[0m\n\u001b[1;32m   2124\u001b[0m                     \u001b[0morientation\u001b[0m\u001b[0;34m=\u001b[0m\u001b[0morientation\u001b[0m\u001b[0;34m,\u001b[0m\u001b[0;34m\u001b[0m\u001b[0;34m\u001b[0m\u001b[0m\n\u001b[1;32m   2125\u001b[0m                     \u001b[0mbbox_inches_restore\u001b[0m\u001b[0;34m=\u001b[0m\u001b[0m_bbox_inches_restore\u001b[0m\u001b[0;34m,\u001b[0m\u001b[0;34m\u001b[0m\u001b[0;34m\u001b[0m\u001b[0m\n\u001b[0;32m-> 2126\u001b[0;31m                     **kwargs)\n\u001b[0m\u001b[1;32m   2127\u001b[0m             \u001b[0;32mfinally\u001b[0m\u001b[0;34m:\u001b[0m\u001b[0;34m\u001b[0m\u001b[0;34m\u001b[0m\u001b[0m\n\u001b[1;32m   2128\u001b[0m                 \u001b[0;32mif\u001b[0m \u001b[0mbbox_inches\u001b[0m \u001b[0;32mand\u001b[0m \u001b[0mrestore_bbox\u001b[0m\u001b[0;34m:\u001b[0m\u001b[0;34m\u001b[0m\u001b[0;34m\u001b[0m\u001b[0m\n",
            "\u001b[0;32m/usr/local/lib/python3.7/dist-packages/matplotlib/backends/backend_agg.py\u001b[0m in \u001b[0;36mprint_png\u001b[0;34m(self, filename_or_obj, metadata, pil_kwargs, *args, **kwargs)\u001b[0m\n\u001b[1;32m    533\u001b[0m         \u001b[0;32melse\u001b[0m\u001b[0;34m:\u001b[0m\u001b[0;34m\u001b[0m\u001b[0;34m\u001b[0m\u001b[0m\n\u001b[1;32m    534\u001b[0m             \u001b[0mrenderer\u001b[0m \u001b[0;34m=\u001b[0m \u001b[0mself\u001b[0m\u001b[0;34m.\u001b[0m\u001b[0mget_renderer\u001b[0m\u001b[0;34m(\u001b[0m\u001b[0;34m)\u001b[0m\u001b[0;34m\u001b[0m\u001b[0;34m\u001b[0m\u001b[0m\n\u001b[0;32m--> 535\u001b[0;31m             \u001b[0;32mwith\u001b[0m \u001b[0mcbook\u001b[0m\u001b[0;34m.\u001b[0m\u001b[0mopen_file_cm\u001b[0m\u001b[0;34m(\u001b[0m\u001b[0mfilename_or_obj\u001b[0m\u001b[0;34m,\u001b[0m \u001b[0;34m\"wb\"\u001b[0m\u001b[0;34m)\u001b[0m \u001b[0;32mas\u001b[0m \u001b[0mfh\u001b[0m\u001b[0;34m:\u001b[0m\u001b[0;34m\u001b[0m\u001b[0;34m\u001b[0m\u001b[0m\n\u001b[0m\u001b[1;32m    536\u001b[0m                 _png.write_png(renderer._renderer, fh, self.figure.dpi,\n\u001b[1;32m    537\u001b[0m                                metadata={**default_metadata, **metadata})\n",
            "\u001b[0;32m/usr/lib/python3.7/contextlib.py\u001b[0m in \u001b[0;36m__enter__\u001b[0;34m(self)\u001b[0m\n\u001b[1;32m    110\u001b[0m         \u001b[0;32mdel\u001b[0m \u001b[0mself\u001b[0m\u001b[0;34m.\u001b[0m\u001b[0margs\u001b[0m\u001b[0;34m,\u001b[0m \u001b[0mself\u001b[0m\u001b[0;34m.\u001b[0m\u001b[0mkwds\u001b[0m\u001b[0;34m,\u001b[0m \u001b[0mself\u001b[0m\u001b[0;34m.\u001b[0m\u001b[0mfunc\u001b[0m\u001b[0;34m\u001b[0m\u001b[0;34m\u001b[0m\u001b[0m\n\u001b[1;32m    111\u001b[0m         \u001b[0;32mtry\u001b[0m\u001b[0;34m:\u001b[0m\u001b[0;34m\u001b[0m\u001b[0;34m\u001b[0m\u001b[0m\n\u001b[0;32m--> 112\u001b[0;31m             \u001b[0;32mreturn\u001b[0m \u001b[0mnext\u001b[0m\u001b[0;34m(\u001b[0m\u001b[0mself\u001b[0m\u001b[0;34m.\u001b[0m\u001b[0mgen\u001b[0m\u001b[0;34m)\u001b[0m\u001b[0;34m\u001b[0m\u001b[0;34m\u001b[0m\u001b[0m\n\u001b[0m\u001b[1;32m    113\u001b[0m         \u001b[0;32mexcept\u001b[0m \u001b[0mStopIteration\u001b[0m\u001b[0;34m:\u001b[0m\u001b[0;34m\u001b[0m\u001b[0;34m\u001b[0m\u001b[0m\n\u001b[1;32m    114\u001b[0m             \u001b[0;32mraise\u001b[0m \u001b[0mRuntimeError\u001b[0m\u001b[0;34m(\u001b[0m\u001b[0;34m\"generator didn't yield\"\u001b[0m\u001b[0;34m)\u001b[0m \u001b[0;32mfrom\u001b[0m \u001b[0;32mNone\u001b[0m\u001b[0;34m\u001b[0m\u001b[0;34m\u001b[0m\u001b[0m\n",
            "\u001b[0;32m/usr/local/lib/python3.7/dist-packages/matplotlib/cbook/__init__.py\u001b[0m in \u001b[0;36mopen_file_cm\u001b[0;34m(path_or_file, mode, encoding)\u001b[0m\n\u001b[1;32m    416\u001b[0m \u001b[0;32mdef\u001b[0m \u001b[0mopen_file_cm\u001b[0m\u001b[0;34m(\u001b[0m\u001b[0mpath_or_file\u001b[0m\u001b[0;34m,\u001b[0m \u001b[0mmode\u001b[0m\u001b[0;34m=\u001b[0m\u001b[0;34m\"r\"\u001b[0m\u001b[0;34m,\u001b[0m \u001b[0mencoding\u001b[0m\u001b[0;34m=\u001b[0m\u001b[0;32mNone\u001b[0m\u001b[0;34m)\u001b[0m\u001b[0;34m:\u001b[0m\u001b[0;34m\u001b[0m\u001b[0;34m\u001b[0m\u001b[0m\n\u001b[1;32m    417\u001b[0m     \u001b[0;34mr\"\"\"Pass through file objects and context-manage `.PathLike`\\s.\"\"\"\u001b[0m\u001b[0;34m\u001b[0m\u001b[0;34m\u001b[0m\u001b[0m\n\u001b[0;32m--> 418\u001b[0;31m     \u001b[0mfh\u001b[0m\u001b[0;34m,\u001b[0m \u001b[0mopened\u001b[0m \u001b[0;34m=\u001b[0m \u001b[0mto_filehandle\u001b[0m\u001b[0;34m(\u001b[0m\u001b[0mpath_or_file\u001b[0m\u001b[0;34m,\u001b[0m \u001b[0mmode\u001b[0m\u001b[0;34m,\u001b[0m \u001b[0;32mTrue\u001b[0m\u001b[0;34m,\u001b[0m \u001b[0mencoding\u001b[0m\u001b[0;34m)\u001b[0m\u001b[0;34m\u001b[0m\u001b[0;34m\u001b[0m\u001b[0m\n\u001b[0m\u001b[1;32m    419\u001b[0m     \u001b[0;32mif\u001b[0m \u001b[0mopened\u001b[0m\u001b[0;34m:\u001b[0m\u001b[0;34m\u001b[0m\u001b[0;34m\u001b[0m\u001b[0m\n\u001b[1;32m    420\u001b[0m         \u001b[0;32mwith\u001b[0m \u001b[0mfh\u001b[0m\u001b[0;34m:\u001b[0m\u001b[0;34m\u001b[0m\u001b[0;34m\u001b[0m\u001b[0m\n",
            "\u001b[0;32m/usr/local/lib/python3.7/dist-packages/matplotlib/cbook/__init__.py\u001b[0m in \u001b[0;36mto_filehandle\u001b[0;34m(fname, flag, return_opened, encoding)\u001b[0m\n\u001b[1;32m    401\u001b[0m             \u001b[0mfh\u001b[0m \u001b[0;34m=\u001b[0m \u001b[0mbz2\u001b[0m\u001b[0;34m.\u001b[0m\u001b[0mBZ2File\u001b[0m\u001b[0;34m(\u001b[0m\u001b[0mfname\u001b[0m\u001b[0;34m,\u001b[0m \u001b[0mflag\u001b[0m\u001b[0;34m)\u001b[0m\u001b[0;34m\u001b[0m\u001b[0;34m\u001b[0m\u001b[0m\n\u001b[1;32m    402\u001b[0m         \u001b[0;32melse\u001b[0m\u001b[0;34m:\u001b[0m\u001b[0;34m\u001b[0m\u001b[0;34m\u001b[0m\u001b[0m\n\u001b[0;32m--> 403\u001b[0;31m             \u001b[0mfh\u001b[0m \u001b[0;34m=\u001b[0m \u001b[0mopen\u001b[0m\u001b[0;34m(\u001b[0m\u001b[0mfname\u001b[0m\u001b[0;34m,\u001b[0m \u001b[0mflag\u001b[0m\u001b[0;34m,\u001b[0m \u001b[0mencoding\u001b[0m\u001b[0;34m=\u001b[0m\u001b[0mencoding\u001b[0m\u001b[0;34m)\u001b[0m\u001b[0;34m\u001b[0m\u001b[0;34m\u001b[0m\u001b[0m\n\u001b[0m\u001b[1;32m    404\u001b[0m         \u001b[0mopened\u001b[0m \u001b[0;34m=\u001b[0m \u001b[0;32mTrue\u001b[0m\u001b[0;34m\u001b[0m\u001b[0;34m\u001b[0m\u001b[0m\n\u001b[1;32m    405\u001b[0m     \u001b[0;32melif\u001b[0m \u001b[0mhasattr\u001b[0m\u001b[0;34m(\u001b[0m\u001b[0mfname\u001b[0m\u001b[0;34m,\u001b[0m \u001b[0;34m'seek'\u001b[0m\u001b[0;34m)\u001b[0m\u001b[0;34m:\u001b[0m\u001b[0;34m\u001b[0m\u001b[0;34m\u001b[0m\u001b[0m\n",
            "\u001b[0;31mFileNotFoundError\u001b[0m: [Errno 2] No such file or directory: '/content/drive/MyDrive/Project_CE434/Car_moto_vgg16/visualize/VGG16 evaluation.png'"
          ]
        },
        {
          "output_type": "display_data",
          "data": {
            "image/png": "[encoded data removed]",
            "text/plain": [
              "<Figure size 1080x360 with 2 Axes>"
            ]
          },
          "metadata": {
            "tags": [],
            "needs_background": "light"
          }
        }
      ]
    },
    {
      "cell_type": "code",
      "metadata": {
        "colab": {
          "base_uri": "https://localhost:8080/"
        },
        "id": "BxwxUVTQ8v5a",
        "outputId": "515d065d-92bb-465b-ee58-8c9cee5208c2"
      },
      "source": [
        "from sklearn.metrics import classification_report, confusion_matrix\n",
        "from sklearn.metrics import plot_confusion_matrix\n",
        "import seaborn as sns\n",
        "\n",
        "cf_matrix_vgg16 = confusion_matrix(y_test, np.argmax(y_pred_vgg16, axis=1))\n",
        "print(classification_report(y_test, np.argmax(y_pred_vgg16, axis=1)))"
      ],
      "execution_count": null,
      "outputs": [
        {
          "output_type": "stream",
          "text": [
            "              precision    recall  f1-score   support\n",
            "\n",
            "           0       0.99      1.00      0.99       250\n",
            "           1       1.00      0.99      0.99       250\n",
            "\n",
            "    accuracy                           0.99       500\n",
            "   macro avg       0.99      0.99      0.99       500\n",
            "weighted avg       0.99      0.99      0.99       500\n",
            "\n"
          ],
          "name": "stdout"
        }
      ]
    },
    {
      "cell_type": "code",
      "metadata": {
        "colab": {
          "base_uri": "https://localhost:8080/"
        },
        "id": "b7udDm8q80oi",
        "outputId": "e6e57125-a7aa-4270-83d6-83d457338847"
      },
      "source": [
        "img_test = image.load_img('/content/drive/MyDrive/Project_CE434/image_test/car_vinfast.jpg', target_size = (WIDTH, HEIGHT))\n",
        "img_test = image.img_to_array(img_test) / 255\n",
        "img_test = np.expand_dims(img_test, axis = 0)\n",
        "img_test.shape"
      ],
      "execution_count": null,
      "outputs": [
        {
          "output_type": "execute_result",
          "data": {
            "text/plain": [
              "(1, 224, 224, 3)"
            ]
          },
          "metadata": {
            "tags": []
          },
          "execution_count": 24
        }
      ]
    },
    {
      "cell_type": "code",
      "metadata": {
        "colab": {
          "base_uri": "https://localhost:8080/"
        },
        "id": "zVqiGapK-Std",
        "outputId": "80f0fda2-db9c-4fe3-b3af-991effadaffd"
      },
      "source": [
        "vgg16_model = tf.keras.models.load_model(MODELS_PATH + 'vgg16.h5')\n",
        "classes = my_model.predict(img_test)\n",
        "\n",
        "if np.argmax(classes, axis=1) == 1:\n",
        "  print('moto')\n",
        "else:\n",
        "  print('car')"
      ],
      "execution_count": null,
      "outputs": [
        {
          "output_type": "stream",
          "text": [
            "car\n"
          ],
          "name": "stdout"
        }
      ]
    },
    {
      "cell_type": "code",
      "metadata": {
        "colab": {
          "base_uri": "https://localhost:8080/"
        },
        "id": "lD85-orEIGBq",
        "outputId": "2b0bc88e-342b-4d8e-db40-80f22a025c2a"
      },
      "source": [
        "img_test_1 = image.load_img('/content/drive/MyDrive/Project_CE434/image_test/honda_winerx.jpg', target_size = (WIDTH, HEIGHT))\n",
        "img_test_1 = image.img_to_array(img_test_1) / 255\n",
        "img_test_1 = np.expand_dims(img_test_1, axis = 0)\n",
        "img_test_1.shape"
      ],
      "execution_count": null,
      "outputs": [
        {
          "output_type": "execute_result",
          "data": {
            "text/plain": [
              "(1, 224, 224, 3)"
            ]
          },
          "metadata": {
            "tags": []
          },
          "execution_count": 27
        }
      ]
    },
    {
      "cell_type": "code",
      "metadata": {
        "colab": {
          "base_uri": "https://localhost:8080/"
        },
        "id": "O3MayipXIOnH",
        "outputId": "85658585-939b-4be4-bc7c-2b7913ca4290"
      },
      "source": [
        "vgg16_model = tf.keras.models.load_model(MODELS_PATH + 'vgg16.h5')\n",
        "classes = my_model.predict(img_test_1)\n",
        "\n",
        "if np.argmax(classes, axis=1) == 1:\n",
        "  print('moto')\n",
        "else:\n",
        "  print('car')"
      ],
      "execution_count": null,
      "outputs": [
        {
          "output_type": "stream",
          "text": [
            "moto\n"
          ],
          "name": "stdout"
        }
      ]
    }
  ]
}