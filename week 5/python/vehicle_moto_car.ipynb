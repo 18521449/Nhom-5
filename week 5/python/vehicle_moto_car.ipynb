{
  "nbformat": 4,
  "nbformat_minor": 0,
  "metadata": {
    "colab": {
      "name": "vehicle_moto_car.ipynb",
      "provenance": []
    },
    "kernelspec": {
      "name": "python3",
      "display_name": "Python 3"
    },
    "language_info": {
      "name": "python"
    }
  },
  "cells": [
    {
      "cell_type": "code",
      "metadata": {
        "id": "bZnfDQg6d08t"
      },
      "source": [
        "import os\n",
        "import numpy as np \n",
        "import pandas as pd \n",
        "import tensorflow as tf\n",
        "from tensorflow.keras.models import Sequential\n",
        "from tensorflow.keras.layers import Dense, Activation, Dropout, Flatten\n",
        "from tensorflow.keras.layers import Conv2D\n",
        "from tensorflow.keras.layers import MaxPooling2D\n",
        "from sklearn.model_selection import train_test_split\n",
        "from keras.preprocessing.image import ImageDataGenerator\n",
        "import matplotlib.pyplot as plt"
      ],
      "execution_count": 3,
      "outputs": []
    },
    {
      "cell_type": "code",
      "metadata": {
        "id": "eWJSb_5kd--P"
      },
      "source": [
        "from zipfile import ZipFile\n",
        "ZipFile(\"/content/drive/MyDrive/Project_CE434/vehicle/test.zip\",\"r\").extractall()\n",
        "ZipFile(\"/content/drive/MyDrive/Project_CE434/vehicle/train.zip\", \"r\").extractall()"
      ],
      "execution_count": null,
      "outputs": []
    },
    {
      "cell_type": "code",
      "metadata": {
        "colab": {
          "base_uri": "https://localhost:8080/",
          "height": 343
        },
        "id": "XR8PfBgyeDgn",
        "outputId": "2ba4afda-7746-4789-8b20-ce71f9dcf6cb"
      },
      "source": [
        "train_dir = \"./train\"\n",
        "test_dir = \"./test\"\n",
        "\n",
        "train_names = os.listdir(train_dir)\n",
        "categories = []\n",
        "for i in train_names: \n",
        "    category = i.split(\".\")[0]\n",
        "    if category == \"car\":\n",
        "        categories.append(\"0\")\n",
        "    else:\n",
        "        categories.append(\"1\")\n",
        "train = pd.DataFrame({\n",
        "    \"filename\" : train_names,\n",
        "    \"category\" : categories\n",
        "})\n",
        "\n",
        "train.head(10)"
      ],
      "execution_count": null,
      "outputs": [
        {
          "output_type": "execute_result",
          "data": {
            "text/html": [
              "<div>\n",
              "<style scoped>\n",
              "    .dataframe tbody tr th:only-of-type {\n",
              "        vertical-align: middle;\n",
              "    }\n",
              "\n",
              "    .dataframe tbody tr th {\n",
              "        vertical-align: top;\n",
              "    }\n",
              "\n",
              "    .dataframe thead th {\n",
              "        text-align: right;\n",
              "    }\n",
              "</style>\n",
              "<table border=\"1\" class=\"dataframe\">\n",
              "  <thead>\n",
              "    <tr style=\"text-align: right;\">\n",
              "      <th></th>\n",
              "      <th>filename</th>\n",
              "      <th>category</th>\n",
              "    </tr>\n",
              "  </thead>\n",
              "  <tbody>\n",
              "    <tr>\n",
              "      <th>0</th>\n",
              "      <td>moto.186.jpg</td>\n",
              "      <td>1</td>\n",
              "    </tr>\n",
              "    <tr>\n",
              "      <th>1</th>\n",
              "      <td>moto.5.jpg</td>\n",
              "      <td>1</td>\n",
              "    </tr>\n",
              "    <tr>\n",
              "      <th>2</th>\n",
              "      <td>moto.66.jpg</td>\n",
              "      <td>1</td>\n",
              "    </tr>\n",
              "    <tr>\n",
              "      <th>3</th>\n",
              "      <td>moto.307.jpg</td>\n",
              "      <td>1</td>\n",
              "    </tr>\n",
              "    <tr>\n",
              "      <th>4</th>\n",
              "      <td>car.312.jpg</td>\n",
              "      <td>0</td>\n",
              "    </tr>\n",
              "    <tr>\n",
              "      <th>5</th>\n",
              "      <td>moto.267.jpg</td>\n",
              "      <td>1</td>\n",
              "    </tr>\n",
              "    <tr>\n",
              "      <th>6</th>\n",
              "      <td>car.127.jpg</td>\n",
              "      <td>0</td>\n",
              "    </tr>\n",
              "    <tr>\n",
              "      <th>7</th>\n",
              "      <td>car.368.jpg</td>\n",
              "      <td>0</td>\n",
              "    </tr>\n",
              "    <tr>\n",
              "      <th>8</th>\n",
              "      <td>moto.141.jpg</td>\n",
              "      <td>1</td>\n",
              "    </tr>\n",
              "    <tr>\n",
              "      <th>9</th>\n",
              "      <td>moto.363.jpg</td>\n",
              "      <td>1</td>\n",
              "    </tr>\n",
              "  </tbody>\n",
              "</table>\n",
              "</div>"
            ],
            "text/plain": [
              "       filename category\n",
              "0  moto.186.jpg        1\n",
              "1    moto.5.jpg        1\n",
              "2   moto.66.jpg        1\n",
              "3  moto.307.jpg        1\n",
              "4   car.312.jpg        0\n",
              "5  moto.267.jpg        1\n",
              "6   car.127.jpg        0\n",
              "7   car.368.jpg        0\n",
              "8  moto.141.jpg        1\n",
              "9  moto.363.jpg        1"
            ]
          },
          "metadata": {
            "tags": []
          },
          "execution_count": 5
        }
      ]
    },
    {
      "cell_type": "code",
      "metadata": {
        "colab": {
          "base_uri": "https://localhost:8080/",
          "height": 279
        },
        "id": "fUkldx-yeGXf",
        "outputId": "d9c50212-cd6e-4871-de3b-5a5bc6c9f4e7"
      },
      "source": [
        "train['category'].value_counts().plot.bar()"
      ],
      "execution_count": null,
      "outputs": [
        {
          "output_type": "execute_result",
          "data": {
            "text/plain": [
              "<matplotlib.axes._subplots.AxesSubplot at 0x7f9a13c66b10>"
            ]
          },
          "metadata": {
            "tags": []
          },
          "execution_count": 6
        },
        {
          "output_type": "display_data",
          "data": {
            "image/png": "[encoded data removed]",
            "text/plain": [
              "<Figure size 432x288 with 1 Axes>"
            ]
          },
          "metadata": {
            "tags": [],
            "needs_background": "light"
          }
        }
      ]
    },
    {
      "cell_type": "code",
      "metadata": {
        "id": "lY_8jkJ0eJuX",
        "colab": {
          "base_uri": "https://localhost:8080/"
        },
        "outputId": "4c795115-f43f-4aa7-d3ce-243da8c89d5f"
      },
      "source": [
        "model = Sequential()\n",
        "\n",
        "model.add(Conv2D(64, (3,3), activation=\"relu\", padding=\"same\", input_shape=(224, 224, 3)))\n",
        "model.add(Conv2D(64, (3,3), activation=\"relu\", padding=\"same\", name='block1_conv2'))\n",
        "model.add(MaxPooling2D(pool_size=(2,2), strides=(2,2), name='block1_maxpool'))\n",
        "\n",
        "model.add(Conv2D(128, (3,3), activation=\"relu\", padding=\"same\", name='block2_conv1'))\n",
        "model.add(Conv2D(128, (3,3), activation=\"relu\", padding=\"same\", name='block2_conv2'))\n",
        "model.add(MaxPooling2D(pool_size=(2,2), strides=(2,2)))\n",
        "\n",
        "model.add(Conv2D(256, (3,3), activation=\"relu\", padding=\"same\"))\n",
        "model.add(Conv2D(256, (3,3), activation=\"relu\", padding=\"same\"))\n",
        "model.add(Conv2D(256, (3,3), activation=\"relu\", padding=\"same\"))\n",
        "model.add(MaxPooling2D(pool_size=(2,2), strides=(2,2)))\n",
        "\n",
        "model.add(Conv2D(512, (3,3), activation=\"relu\", padding=\"same\"))\n",
        "model.add(Conv2D(512, (3,3), activation=\"relu\", padding=\"same\"))\n",
        "model.add(Conv2D(512, (3,3), activation=\"relu\", padding=\"same\"))\n",
        "model.add(MaxPooling2D(pool_size=(2,2), strides=(2,2)))\n",
        "\n",
        "model.add(Conv2D(512, (3,3), activation=\"relu\", padding=\"same\"))\n",
        "model.add(Conv2D(512, (3,3), activation=\"relu\", padding=\"same\"))\n",
        "model.add(Conv2D(512, (3,3), activation=\"relu\", padding=\"same\"))\n",
        "model.add(MaxPooling2D(pool_size=(2,2), strides=(2,2), name='block5_maxpool'))\n",
        "\n",
        "model.add(Flatten())\n",
        "model.add(Dense(4096, activation='relu'))\n",
        "model.add(Dense(4096, activation='relu'))\n",
        "model.add(Dense(1, activation='sigmoid'))\n",
        "\n",
        "model.summary()"
      ],
      "execution_count": 4,
      "outputs": [
        {
          "output_type": "stream",
          "text": [
            "Model: \"sequential\"\n",
            "_________________________________________________________________\n",
            "Layer (type)                 Output Shape              Param #   \n",
            "=================================================================\n",
            "conv2d (Conv2D)              (None, 224, 224, 64)      1792      \n",
            "_________________________________________________________________\n",
            "block1_conv2 (Conv2D)        (None, 224, 224, 64)      36928     \n",
            "_________________________________________________________________\n",
            "block1_maxpool (MaxPooling2D (None, 112, 112, 64)      0         \n",
            "_________________________________________________________________\n",
            "block2_conv1 (Conv2D)        (None, 112, 112, 128)     73856     \n",
            "_________________________________________________________________\n",
            "block2_conv2 (Conv2D)        (None, 112, 112, 128)     147584    \n",
            "_________________________________________________________________\n",
            "max_pooling2d (MaxPooling2D) (None, 56, 56, 128)       0         \n",
            "_________________________________________________________________\n",
            "conv2d_1 (Conv2D)            (None, 56, 56, 256)       295168    \n",
            "_________________________________________________________________\n",
            "conv2d_2 (Conv2D)            (None, 56, 56, 256)       590080    \n",
            "_________________________________________________________________\n",
            "conv2d_3 (Conv2D)            (None, 56, 56, 256)       590080    \n",
            "_________________________________________________________________\n",
            "max_pooling2d_1 (MaxPooling2 (None, 28, 28, 256)       0         \n",
            "_________________________________________________________________\n",
            "conv2d_4 (Conv2D)            (None, 28, 28, 512)       1180160   \n",
            "_________________________________________________________________\n",
            "conv2d_5 (Conv2D)            (None, 28, 28, 512)       2359808   \n",
            "_________________________________________________________________\n",
            "conv2d_6 (Conv2D)            (None, 28, 28, 512)       2359808   \n",
            "_________________________________________________________________\n",
            "max_pooling2d_2 (MaxPooling2 (None, 14, 14, 512)       0         \n",
            "_________________________________________________________________\n",
            "conv2d_7 (Conv2D)            (None, 14, 14, 512)       2359808   \n",
            "_________________________________________________________________\n",
            "conv2d_8 (Conv2D)            (None, 14, 14, 512)       2359808   \n",
            "_________________________________________________________________\n",
            "conv2d_9 (Conv2D)            (None, 14, 14, 512)       2359808   \n",
            "_________________________________________________________________\n",
            "block5_maxpool (MaxPooling2D (None, 7, 7, 512)         0         \n",
            "_________________________________________________________________\n",
            "flatten (Flatten)            (None, 25088)             0         \n",
            "_________________________________________________________________\n",
            "dense (Dense)                (None, 4096)              102764544 \n",
            "_________________________________________________________________\n",
            "dense_1 (Dense)              (None, 4096)              16781312  \n",
            "_________________________________________________________________\n",
            "dense_2 (Dense)              (None, 1)                 4097      \n",
            "=================================================================\n",
            "Total params: 134,264,641\n",
            "Trainable params: 134,264,641\n",
            "Non-trainable params: 0\n",
            "_________________________________________________________________\n"
          ],
          "name": "stdout"
        }
      ]
    },
    {
      "cell_type": "code",
      "metadata": {
        "id": "JiwaIFBqg49H"
      },
      "source": [
        "#chia tap train va validation\n",
        "train_df, validate_df = train_test_split(train, test_size = 0.2, random_state = 42)\n",
        "train_df = train_df.reset_index(drop = True)\n",
        "validate_df = validate_df.reset_index(drop = True)\n"
      ],
      "execution_count": null,
      "outputs": []
    },
    {
      "cell_type": "code",
      "metadata": {
        "colab": {
          "base_uri": "https://localhost:8080/"
        },
        "id": "SI0SB1W3hOGI",
        "outputId": "73e2a943-ee47-44ac-fb2d-930283ee0e4e"
      },
      "source": [
        "#tao tap train\n",
        "train_datagen = ImageDataGenerator(rotation_range=40,\n",
        "    rescale=1./255,\n",
        "    shear_range=0.2,\n",
        "    zoom_range=0.5,\n",
        "    horizontal_flip=True,\n",
        "    width_shift_range=0.2,\n",
        "    height_shift_range=0.2\n",
        ")\n",
        "\n",
        "train_generator = train_datagen.flow_from_dataframe(\n",
        "    train_df, \n",
        "    \"./train\", \n",
        "    x_col='filename',\n",
        "    y_col='category',\n",
        "    target_size=(224,224),\n",
        "    class_mode='binary',\n",
        "    batch_size=64,\n",
        "    color_mode=\"rgb\",\n",
        "    shuffle=True,\n",
        "    validate_filenames=False\n",
        ")"
      ],
      "execution_count": null,
      "outputs": [
        {
          "output_type": "stream",
          "text": [
            "Found 595 non-validated image filenames belonging to 2 classes.\n"
          ],
          "name": "stdout"
        }
      ]
    },
    {
      "cell_type": "code",
      "metadata": {
        "colab": {
          "base_uri": "https://localhost:8080/"
        },
        "id": "Pvzlv_gVhTGv",
        "outputId": "42ffcb71-c3ce-47b7-e2a6-8a2e00168f69"
      },
      "source": [
        "#tao tap validation\n",
        "\n",
        "validation_datagen = ImageDataGenerator(rescale=1./255)\n",
        "\n",
        "validation_generator = validation_datagen.flow_from_dataframe(\n",
        "    validate_df, \n",
        "    \"./train\", \n",
        "    x_col='filename',\n",
        "    y_col='category',\n",
        "    target_size=(224,224),\n",
        "    class_mode='binary',\n",
        "    batch_size=64,\n",
        "    color_mode=\"rgb\",\n",
        "    shuffle=True,\n",
        "    validate_filenames=False\n",
        ")"
      ],
      "execution_count": null,
      "outputs": [
        {
          "output_type": "stream",
          "text": [
            "Found 149 non-validated image filenames belonging to 2 classes.\n"
          ],
          "name": "stdout"
        }
      ]
    },
    {
      "cell_type": "code",
      "metadata": {
        "colab": {
          "base_uri": "https://localhost:8080/"
        },
        "id": "yWSxJ7lohiiw",
        "outputId": "3efc515f-001d-4bec-d5b9-bfa91f7d5f8b"
      },
      "source": [
        "#fit model\n",
        "\n",
        "batch_size = 64\n",
        "epochs = 5\n",
        "\n",
        "model.compile(optimizer='adam',\n",
        "              loss='binary_crossentropy',\n",
        "              metrics = ['accuracy'])\n",
        "\n",
        "history = model.fit_generator(\n",
        "    train_generator,\n",
        "    steps_per_epoch=len(train_df)/batch_size,\n",
        "    epochs= epochs,\n",
        "    validation_data=validation_generator,\n",
        "    validation_steps=len(validate_df)/batch_size)"
      ],
      "execution_count": null,
      "outputs": [
        {
          "output_type": "stream",
          "text": [
            "/usr/local/lib/python3.7/dist-packages/tensorflow/python/keras/engine/training.py:1844: UserWarning: `Model.fit_generator` is deprecated and will be removed in a future version. Please use `Model.fit`, which supports generators.\n",
            "  warnings.warn('`Model.fit_generator` is deprecated and '\n"
          ],
          "name": "stderr"
        },
        {
          "output_type": "stream",
          "text": [
            "Epoch 1/5\n",
            "9/9 [==============================] - 1069s 115s/step - loss: 0.7149 - accuracy: 0.4789 - val_loss: 0.6930 - val_accuracy: 0.5168\n",
            "Epoch 2/5\n",
            "9/9 [==============================] - 1065s 115s/step - loss: 0.6935 - accuracy: 0.4769 - val_loss: 0.6937 - val_accuracy: 0.4832\n",
            "Epoch 3/5\n",
            "9/9 [==============================] - 1071s 116s/step - loss: 0.6940 - accuracy: 0.4757 - val_loss: 0.6934 - val_accuracy: 0.4832\n",
            "Epoch 4/5\n",
            "9/9 [==============================] - 1069s 116s/step - loss: 0.6930 - accuracy: 0.5154 - val_loss: 0.6937 - val_accuracy: 0.4832\n",
            "Epoch 5/5\n",
            "9/9 [==============================] - 1068s 116s/step - loss: 0.6927 - accuracy: 0.5237 - val_loss: 0.6936 - val_accuracy: 0.4832\n"
          ],
          "name": "stdout"
        }
      ]
    },
    {
      "cell_type": "code",
      "metadata": {
        "colab": {
          "base_uri": "https://localhost:8080/"
        },
        "id": "rSs_JAL8kIN_",
        "outputId": "8419c122-5ad7-4670-d970-1247ea12401c"
      },
      "source": [
        "loss, accuracy = model.evaluate_generator(validation_generator, len(validate_df)/batch_size, workers=12)\n",
        "print(\"Test: accuracy = %f  ;  loss = %f \" % (accuracy, loss))"
      ],
      "execution_count": null,
      "outputs": [
        {
          "output_type": "stream",
          "text": [
            "/usr/local/lib/python3.7/dist-packages/tensorflow/python/keras/engine/training.py:1877: UserWarning: `Model.evaluate_generator` is deprecated and will be removed in a future version. Please use `Model.evaluate`, which supports generators.\n",
            "  warnings.warn('`Model.evaluate_generator` is deprecated and '\n"
          ],
          "name": "stderr"
        },
        {
          "output_type": "stream",
          "text": [
            "Test: accuracy = 0.483221  ;  loss = 0.693595 \n"
          ],
          "name": "stdout"
        }
      ]
    }
  ]
}