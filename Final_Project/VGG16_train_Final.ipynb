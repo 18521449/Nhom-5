{
  "nbformat": 4,
  "nbformat_minor": 0,
  "metadata": {
    "colab": {
      "name": "VGG16_train_Final.ipynb",
      "provenance": []
    },
    "kernelspec": {
      "name": "python3",
      "display_name": "Python 3"
    },
    "language_info": {
      "name": "python"
    },
    "accelerator": "GPU"
  },
  "cells": [
    {
      "cell_type": "code",
      "metadata": {
        "id": "zVeUQRl3BtAo"
      },
      "source": [
        "import os\n",
        "import numpy as np \n",
        "import pandas as pd \n",
        "import tensorflow as tf\n",
        "from tensorflow.keras.models import Sequential\n",
        "from tensorflow.keras.layers import Dense, Activation, Dropout, Flatten\n",
        "from tensorflow.keras.layers import Conv2D\n",
        "from tensorflow.keras.layers import MaxPooling2D,GlobalMaxPooling2D\n",
        "from sklearn.model_selection import train_test_split\n",
        "from keras.preprocessing.image import ImageDataGenerator\n",
        "from keras.callbacks import ReduceLROnPlateau\n",
        "import matplotlib.pyplot as plt\n",
        "from tensorflow.keras.preprocessing import image"
      ],
      "execution_count": null,
      "outputs": []
    },
    {
      "cell_type": "code",
      "metadata": {
        "id": "4g3do8RPB5QX"
      },
      "source": [
        "from zipfile import ZipFile\n",
        "ZipFile(\"/content/drive/MyDrive/Project_CE434/car_moto_4k/test1.zip\",\"r\").extractall()\n",
        "ZipFile(\"/content/drive/MyDrive/Project_CE434/car_moto_4k/training1.zip\", \"r\").extractall()\n",
        "ZipFile(\"/content/drive/MyDrive/Project_CE434/car_moto_4k/validate1.zip\", \"r\").extractall()"
      ],
      "execution_count": null,
      "outputs": []
    },
    {
      "cell_type": "code",
      "metadata": {
        "id": "im_Ssq5oB5TA"
      },
      "source": [
        "TRAIN_PATH = './training1'\n",
        "TEST_PATH = './test1'\n",
        "VALID_PATH = './validate1'\n",
        "MODELS_PATH = '/content/drive/MyDrive/Project_CE434/car_moto_4k/model_final/'\n",
        "VISUALIZE_PATH = '/content/drive/MyDrive/Project_CE434/car_moto_4k/visualize2/'\n",
        "WIDTH = 112\n",
        "HEIGHT = 112\n",
        "EPOCHS = 50\n",
        "BATCH_SIZE = 32"
      ],
      "execution_count": null,
      "outputs": []
    },
    {
      "cell_type": "code",
      "metadata": {
        "id": "lIGHZ4XMB5VY"
      },
      "source": [
        "train_generator = image.ImageDataGenerator(\n",
        "    rescale = 1./255,  \n",
        "    width_shift_range = 0.2, \n",
        "    height_shift_range = 0.2,\n",
        "    zoom_range = 0.2,\n",
        "    rotation_range = 15\n",
        ")\n",
        "test_generator = image.ImageDataGenerator(\n",
        "    rescale = 1./255,    \n",
        "    width_shift_range = 0.2, \n",
        "    height_shift_range = 0.2,\n",
        "    zoom_range = 0.2,\n",
        "    rotation_range = 15\n",
        ")\n",
        "valid_generator = image.ImageDataGenerator(\n",
        "    rescale = 1./255,\n",
        "    width_shift_range = 0.2,\n",
        "    height_shift_range = 0.2,\n",
        "    zoom_range = 0.2,\n",
        "    rotation_range = 15\n",
        ")"
      ],
      "execution_count": null,
      "outputs": []
    },
    {
      "cell_type": "code",
      "metadata": {
        "colab": {
          "base_uri": "https://localhost:8080/"
        },
        "id": "LrRLW3i3B5Xy",
        "outputId": "c03a630b-4aad-4dcc-970d-cfbe28a58cb4"
      },
      "source": [
        "generated_train_data = train_generator.flow_from_directory(\n",
        "    TRAIN_PATH,\n",
        "    target_size = (WIDTH, HEIGHT),\n",
        "    batch_size = BATCH_SIZE,\n",
        "    class_mode = 'categorical',\n",
        "    shuffle = True, \n",
        "    seed=42\n",
        ")"
      ],
      "execution_count": null,
      "outputs": [
        {
          "output_type": "stream",
          "text": [
            "Found 3600 images belonging to 2 classes.\n"
          ],
          "name": "stdout"
        }
      ]
    },
    {
      "cell_type": "code",
      "metadata": {
        "colab": {
          "base_uri": "https://localhost:8080/"
        },
        "id": "WrNo6ywXB5Z8",
        "outputId": "1c492482-82f7-4ebc-e89a-72a39bd28afd"
      },
      "source": [
        "generated_valid_data = valid_generator.flow_from_directory(\n",
        "    VALID_PATH,\n",
        "    target_size = (WIDTH, HEIGHT),\n",
        "    batch_size = BATCH_SIZE,\n",
        "    class_mode = 'categorical',\n",
        "    shuffle = True,\n",
        "    seed=42\n",
        ")"
      ],
      "execution_count": null,
      "outputs": [
        {
          "output_type": "stream",
          "text": [
            "Found 520 images belonging to 2 classes.\n"
          ],
          "name": "stdout"
        }
      ]
    },
    {
      "cell_type": "code",
      "metadata": {
        "colab": {
          "base_uri": "https://localhost:8080/"
        },
        "id": "8FdQ3hbxB5cL",
        "outputId": "0df3202d-a300-4f9d-f919-69c6e15c30ff"
      },
      "source": [
        "generated_test_data = test_generator.flow_from_directory(\n",
        "    TEST_PATH,\n",
        "    target_size = (WIDTH, HEIGHT),\n",
        "    class_mode = 'categorical',\n",
        "    shuffle = False,\n",
        ")"
      ],
      "execution_count": null,
      "outputs": [
        {
          "output_type": "stream",
          "text": [
            "Found 900 images belonging to 2 classes.\n"
          ],
          "name": "stdout"
        }
      ]
    },
    {
      "cell_type": "code",
      "metadata": {
        "id": "4SHdmc7bB5gZ"
      },
      "source": [
        "import os\n",
        "import numpy as np\n",
        "import pandas as pd\n",
        "import matplotlib.pyplot as plt\n",
        "from tensorflow.keras.models import Sequential\n",
        "from tensorflow.keras.layers import Conv2D, BatchNormalization, MaxPooling2D, Flatten, Dense, Dropout, Input\n",
        "from keras.applications.vgg16 import VGG16\n",
        "from keras.models import Model\n",
        "from keras.preprocessing.image import ImageDataGenerator"
      ],
      "execution_count": null,
      "outputs": []
    },
    {
      "cell_type": "code",
      "metadata": {
        "id": "_8a6Rki2B5iw"
      },
      "source": [
        "model = Sequential()\n",
        "model.add(Conv2D(name=\"block1_conv1\",input_shape=(WIDTH, HEIGHT,3),filters=8,kernel_size=(3,3),padding=\"same\", activation=\"relu\"))\n",
        "model.add(Conv2D(name=\"block1_conv2\",filters=8,kernel_size=(3,3),padding=\"same\", activation=\"relu\"))\n",
        "model.add(MaxPooling2D(pool_size=(2,2),strides=(2,2)))\n",
        "\n",
        "model.add(Conv2D(name=\"block2_conv1\",filters=16, kernel_size=(3,3), padding=\"same\", activation=\"relu\"))\n",
        "model.add(Conv2D(name=\"block2_conv2\",filters=16, kernel_size=(3,3), padding=\"same\", activation=\"relu\"))\n",
        "model.add(MaxPooling2D(pool_size=(2,2),strides=(2,2)))\n",
        "\n",
        "model.add(Conv2D(name=\"block3_conv1\",filters=32, kernel_size=(3,3), padding=\"same\", activation=\"relu\"))\n",
        "model.add(Conv2D(name=\"block3_conv2\",filters=32, kernel_size=(3,3), padding=\"same\", activation=\"relu\"))\n",
        "model.add(Conv2D(name=\"block3_conv3\",filters=32, kernel_size=(3,3), padding=\"same\", activation=\"relu\"))\n",
        "model.add(MaxPooling2D(pool_size=(2,2),strides=(2,2)))\n",
        "\n",
        "model.add(Conv2D(name=\"block4_conv1\",filters=64, kernel_size=(3,3), padding=\"same\", activation=\"relu\"))\n",
        "model.add(Conv2D(name=\"block4_conv2\",filters=64, kernel_size=(3,3), padding=\"same\", activation=\"relu\"))\n",
        "model.add(Conv2D(name=\"block4_conv3\",filters=64, kernel_size=(3,3), padding=\"same\", activation=\"relu\"))\n",
        "model.add(MaxPooling2D(pool_size=(2,2),strides=(2,2)))\n",
        "\n",
        "model.add(Conv2D(name=\"block5_conv1\",filters=64, kernel_size=(3,3), padding=\"same\", activation=\"relu\"))\n",
        "model.add(Conv2D(name=\"block5_conv2\",filters=64, kernel_size=(3,3), padding=\"same\", activation=\"relu\"))\n",
        "model.add(Conv2D(name=\"block5_conv3\",filters=64, kernel_size=(3,3), padding=\"same\", activation=\"relu\"))\n",
        "model.add(MaxPooling2D(pool_size=(2,2),strides=(2,2)))"
      ],
      "execution_count": null,
      "outputs": []
    },
    {
      "cell_type": "code",
      "metadata": {
        "id": "9sJtU9OBB5lD"
      },
      "source": [
        "# Dong bang cac layer\n",
        "model.add(GlobalMaxPooling2D())\n",
        "model.add(Dense(32,activation=\"relu\"))\n",
        "model.add(Dense(16,activation=\"relu\"))\n",
        "model.add(Dense(2, activation=\"softmax\"))\n"
      ],
      "execution_count": null,
      "outputs": []
    },
    {
      "cell_type": "code",
      "metadata": {
        "colab": {
          "base_uri": "https://localhost:8080/"
        },
        "id": "LMMAK5paB5nP",
        "outputId": "f51e4730-75a1-4962-8e5a-ddbb33b7e1d8"
      },
      "source": [
        "from tensorflow.keras.optimizers import Adam\n",
        "model.compile(optimizer = Adam(lr = 1e-5), loss = 'categorical_crossentropy', metrics = ['accuracy'])\n",
        "model.summary()"
      ],
      "execution_count": null,
      "outputs": [
        {
          "output_type": "stream",
          "text": [
            "Model: \"sequential_1\"\n",
            "_________________________________________________________________\n",
            "Layer (type)                 Output Shape              Param #   \n",
            "=================================================================\n",
            "block1_conv1 (Conv2D)        (None, 112, 112, 8)       224       \n",
            "_________________________________________________________________\n",
            "block1_conv2 (Conv2D)        (None, 112, 112, 8)       584       \n",
            "_________________________________________________________________\n",
            "max_pooling2d_5 (MaxPooling2 (None, 56, 56, 8)         0         \n",
            "_________________________________________________________________\n",
            "block2_conv1 (Conv2D)        (None, 56, 56, 16)        1168      \n",
            "_________________________________________________________________\n",
            "block2_conv2 (Conv2D)        (None, 56, 56, 16)        2320      \n",
            "_________________________________________________________________\n",
            "max_pooling2d_6 (MaxPooling2 (None, 28, 28, 16)        0         \n",
            "_________________________________________________________________\n",
            "block3_conv1 (Conv2D)        (None, 28, 28, 32)        4640      \n",
            "_________________________________________________________________\n",
            "block3_conv2 (Conv2D)        (None, 28, 28, 32)        9248      \n",
            "_________________________________________________________________\n",
            "block3_conv3 (Conv2D)        (None, 28, 28, 32)        9248      \n",
            "_________________________________________________________________\n",
            "max_pooling2d_7 (MaxPooling2 (None, 14, 14, 32)        0         \n",
            "_________________________________________________________________\n",
            "block4_conv1 (Conv2D)        (None, 14, 14, 64)        18496     \n",
            "_________________________________________________________________\n",
            "block4_conv2 (Conv2D)        (None, 14, 14, 64)        36928     \n",
            "_________________________________________________________________\n",
            "block4_conv3 (Conv2D)        (None, 14, 14, 64)        36928     \n",
            "_________________________________________________________________\n",
            "max_pooling2d_8 (MaxPooling2 (None, 7, 7, 64)          0         \n",
            "_________________________________________________________________\n",
            "block5_conv1 (Conv2D)        (None, 7, 7, 64)          36928     \n",
            "_________________________________________________________________\n",
            "block5_conv2 (Conv2D)        (None, 7, 7, 64)          36928     \n",
            "_________________________________________________________________\n",
            "block5_conv3 (Conv2D)        (None, 7, 7, 64)          36928     \n",
            "_________________________________________________________________\n",
            "max_pooling2d_9 (MaxPooling2 (None, 3, 3, 64)          0         \n",
            "_________________________________________________________________\n",
            "global_max_pooling2d (Global (None, 64)                0         \n",
            "_________________________________________________________________\n",
            "dense (Dense)                (None, 32)                2080      \n",
            "_________________________________________________________________\n",
            "dense_1 (Dense)              (None, 16)                528       \n",
            "_________________________________________________________________\n",
            "dense_2 (Dense)              (None, 2)                 34        \n",
            "=================================================================\n",
            "Total params: 233,210\n",
            "Trainable params: 233,210\n",
            "Non-trainable params: 0\n",
            "_________________________________________________________________\n"
          ],
          "name": "stdout"
        },
        {
          "output_type": "stream",
          "text": [
            "/usr/local/lib/python3.7/dist-packages/tensorflow/python/keras/optimizer_v2/optimizer_v2.py:375: UserWarning: The `lr` argument is deprecated, use `learning_rate` instead.\n",
            "  \"The `lr` argument is deprecated, use `learning_rate` instead.\")\n"
          ],
          "name": "stderr"
        }
      ]
    },
    {
      "cell_type": "code",
      "metadata": {
        "colab": {
          "base_uri": "https://localhost:8080/"
        },
        "id": "igOGlXoNB5p3",
        "outputId": "f01c91c0-a2cd-4b87-be1f-84a053e90af1"
      },
      "source": [
        "vgg16_history = model.fit(\n",
        "    generated_train_data, \n",
        "    validation_data = generated_valid_data,\n",
        "    validation_steps = generated_valid_data.n // BATCH_SIZE,\n",
        "    steps_per_epoch = generated_train_data.n  // BATCH_SIZE,\n",
        "    epochs = EPOCHS,\n",
        "    verbose = 1\n",
        ")\n",
        "model.save(MODELS_PATH + 'model_trainVGG16.h5')\n",
        "model.save_weights(MODELS_PATH + 'model_weight.h5')"
      ],
      "execution_count": null,
      "outputs": [
        {
          "output_type": "stream",
          "text": [
            "Epoch 1/50\n",
            "112/112 [==============================] - 83s 455ms/step - loss: 0.6928 - accuracy: 0.5000 - val_loss: 0.6923 - val_accuracy: 0.5020\n",
            "Epoch 2/50\n",
            "112/112 [==============================] - 48s 431ms/step - loss: 0.6912 - accuracy: 0.5053 - val_loss: 0.6902 - val_accuracy: 0.5020\n",
            "Epoch 3/50\n",
            "112/112 [==============================] - 49s 435ms/step - loss: 0.6857 - accuracy: 0.5062 - val_loss: 0.6821 - val_accuracy: 0.5254\n",
            "Epoch 4/50\n",
            "112/112 [==============================] - 49s 438ms/step - loss: 0.6676 - accuracy: 0.5959 - val_loss: 0.6544 - val_accuracy: 0.6562\n",
            "Epoch 5/50\n",
            "112/112 [==============================] - 49s 442ms/step - loss: 0.6244 - accuracy: 0.6892 - val_loss: 0.6052 - val_accuracy: 0.6719\n",
            "Epoch 6/50\n",
            "112/112 [==============================] - 50s 446ms/step - loss: 0.5622 - accuracy: 0.7281 - val_loss: 0.5576 - val_accuracy: 0.7285\n",
            "Epoch 7/50\n",
            "112/112 [==============================] - 49s 437ms/step - loss: 0.5272 - accuracy: 0.7413 - val_loss: 0.5303 - val_accuracy: 0.7324\n",
            "Epoch 8/50\n",
            "112/112 [==============================] - 50s 449ms/step - loss: 0.5131 - accuracy: 0.7480 - val_loss: 0.5101 - val_accuracy: 0.7461\n",
            "Epoch 9/50\n",
            "112/112 [==============================] - 49s 439ms/step - loss: 0.4983 - accuracy: 0.7651 - val_loss: 0.5031 - val_accuracy: 0.7441\n",
            "Epoch 10/50\n",
            "112/112 [==============================] - 50s 450ms/step - loss: 0.4842 - accuracy: 0.7677 - val_loss: 0.4922 - val_accuracy: 0.7559\n",
            "Epoch 11/50\n",
            "112/112 [==============================] - 49s 443ms/step - loss: 0.4813 - accuracy: 0.7744 - val_loss: 0.4672 - val_accuracy: 0.7715\n",
            "Epoch 12/50\n",
            "112/112 [==============================] - 49s 442ms/step - loss: 0.4520 - accuracy: 0.7948 - val_loss: 0.4982 - val_accuracy: 0.7500\n",
            "Epoch 13/50\n",
            "112/112 [==============================] - 49s 442ms/step - loss: 0.4404 - accuracy: 0.8063 - val_loss: 0.4161 - val_accuracy: 0.8086\n",
            "Epoch 14/50\n",
            "112/112 [==============================] - 48s 428ms/step - loss: 0.4262 - accuracy: 0.8122 - val_loss: 0.4269 - val_accuracy: 0.8008\n",
            "Epoch 15/50\n",
            "112/112 [==============================] - 50s 447ms/step - loss: 0.4142 - accuracy: 0.8159 - val_loss: 0.3708 - val_accuracy: 0.8359\n",
            "Epoch 16/50\n",
            "112/112 [==============================] - 49s 441ms/step - loss: 0.4121 - accuracy: 0.8192 - val_loss: 0.3746 - val_accuracy: 0.8379\n",
            "Epoch 17/50\n",
            "112/112 [==============================] - 48s 431ms/step - loss: 0.3830 - accuracy: 0.8355 - val_loss: 0.3567 - val_accuracy: 0.8516\n",
            "Epoch 18/50\n",
            "112/112 [==============================] - 49s 434ms/step - loss: 0.3755 - accuracy: 0.8433 - val_loss: 0.3908 - val_accuracy: 0.8047\n",
            "Epoch 19/50\n",
            "112/112 [==============================] - 49s 441ms/step - loss: 0.3654 - accuracy: 0.8414 - val_loss: 0.3393 - val_accuracy: 0.8418\n",
            "Epoch 20/50\n",
            "112/112 [==============================] - 51s 453ms/step - loss: 0.3579 - accuracy: 0.8498 - val_loss: 0.3780 - val_accuracy: 0.8223\n",
            "Epoch 21/50\n",
            "112/112 [==============================] - 49s 440ms/step - loss: 0.3488 - accuracy: 0.8503 - val_loss: 0.2857 - val_accuracy: 0.8809\n",
            "Epoch 22/50\n",
            "112/112 [==============================] - 49s 437ms/step - loss: 0.3431 - accuracy: 0.8576 - val_loss: 0.2753 - val_accuracy: 0.8965\n",
            "Epoch 23/50\n",
            "112/112 [==============================] - 49s 435ms/step - loss: 0.3286 - accuracy: 0.8635 - val_loss: 0.2544 - val_accuracy: 0.9062\n",
            "Epoch 24/50\n",
            "112/112 [==============================] - 49s 435ms/step - loss: 0.3254 - accuracy: 0.8629 - val_loss: 0.2934 - val_accuracy: 0.8848\n",
            "Epoch 25/50\n",
            "112/112 [==============================] - 48s 427ms/step - loss: 0.3253 - accuracy: 0.8658 - val_loss: 0.2728 - val_accuracy: 0.8770\n",
            "Epoch 26/50\n",
            "112/112 [==============================] - 49s 434ms/step - loss: 0.3042 - accuracy: 0.8756 - val_loss: 0.2537 - val_accuracy: 0.9062\n",
            "Epoch 27/50\n",
            "112/112 [==============================] - 49s 440ms/step - loss: 0.3046 - accuracy: 0.8784 - val_loss: 0.2739 - val_accuracy: 0.8848\n",
            "Epoch 28/50\n",
            "112/112 [==============================] - 50s 448ms/step - loss: 0.2991 - accuracy: 0.8817 - val_loss: 0.2546 - val_accuracy: 0.8926\n",
            "Epoch 29/50\n",
            "112/112 [==============================] - 49s 441ms/step - loss: 0.3070 - accuracy: 0.8714 - val_loss: 0.2037 - val_accuracy: 0.9277\n",
            "Epoch 30/50\n",
            "112/112 [==============================] - 51s 452ms/step - loss: 0.2996 - accuracy: 0.8772 - val_loss: 0.2256 - val_accuracy: 0.9082\n",
            "Epoch 31/50\n",
            "112/112 [==============================] - 50s 451ms/step - loss: 0.2998 - accuracy: 0.8823 - val_loss: 0.2872 - val_accuracy: 0.8691\n",
            "Epoch 32/50\n",
            "112/112 [==============================] - 50s 448ms/step - loss: 0.2823 - accuracy: 0.8848 - val_loss: 0.2181 - val_accuracy: 0.9102\n",
            "Epoch 33/50\n",
            "112/112 [==============================] - 50s 449ms/step - loss: 0.2950 - accuracy: 0.8778 - val_loss: 0.2030 - val_accuracy: 0.9355\n",
            "Epoch 34/50\n",
            "112/112 [==============================] - 50s 446ms/step - loss: 0.2876 - accuracy: 0.8837 - val_loss: 0.2216 - val_accuracy: 0.9180\n",
            "Epoch 35/50\n",
            "112/112 [==============================] - 48s 427ms/step - loss: 0.2824 - accuracy: 0.8851 - val_loss: 0.2234 - val_accuracy: 0.9199\n",
            "Epoch 36/50\n",
            "112/112 [==============================] - 49s 437ms/step - loss: 0.2763 - accuracy: 0.8882 - val_loss: 0.2050 - val_accuracy: 0.9258\n",
            "Epoch 37/50\n",
            "112/112 [==============================] - 50s 444ms/step - loss: 0.2839 - accuracy: 0.8820 - val_loss: 0.2104 - val_accuracy: 0.9297\n",
            "Epoch 38/50\n",
            "112/112 [==============================] - 49s 439ms/step - loss: 0.2713 - accuracy: 0.8910 - val_loss: 0.2163 - val_accuracy: 0.9141\n",
            "Epoch 39/50\n",
            "112/112 [==============================] - 50s 443ms/step - loss: 0.2754 - accuracy: 0.8904 - val_loss: 0.2017 - val_accuracy: 0.9316\n",
            "Epoch 40/50\n",
            "112/112 [==============================] - 50s 448ms/step - loss: 0.2751 - accuracy: 0.8896 - val_loss: 0.2034 - val_accuracy: 0.9160\n",
            "Epoch 41/50\n",
            "112/112 [==============================] - 50s 450ms/step - loss: 0.2781 - accuracy: 0.8851 - val_loss: 0.2028 - val_accuracy: 0.9180\n",
            "Epoch 42/50\n",
            "112/112 [==============================] - 49s 436ms/step - loss: 0.2674 - accuracy: 0.8893 - val_loss: 0.1970 - val_accuracy: 0.9238\n",
            "Epoch 43/50\n",
            "112/112 [==============================] - 50s 444ms/step - loss: 0.2657 - accuracy: 0.8935 - val_loss: 0.1925 - val_accuracy: 0.9336\n",
            "Epoch 44/50\n",
            "112/112 [==============================] - 50s 445ms/step - loss: 0.2538 - accuracy: 0.8974 - val_loss: 0.1965 - val_accuracy: 0.9180\n",
            "Epoch 45/50\n",
            "112/112 [==============================] - 49s 435ms/step - loss: 0.2726 - accuracy: 0.8871 - val_loss: 0.2022 - val_accuracy: 0.9238\n",
            "Epoch 46/50\n",
            "112/112 [==============================] - 50s 444ms/step - loss: 0.2580 - accuracy: 0.8924 - val_loss: 0.2580 - val_accuracy: 0.8945\n",
            "Epoch 47/50\n",
            "112/112 [==============================] - 49s 433ms/step - loss: 0.2809 - accuracy: 0.8803 - val_loss: 0.2122 - val_accuracy: 0.9023\n",
            "Epoch 48/50\n",
            "112/112 [==============================] - 50s 445ms/step - loss: 0.2628 - accuracy: 0.8913 - val_loss: 0.2398 - val_accuracy: 0.9082\n",
            "Epoch 49/50\n",
            "112/112 [==============================] - 49s 438ms/step - loss: 0.2575 - accuracy: 0.8971 - val_loss: 0.1891 - val_accuracy: 0.9277\n",
            "Epoch 50/50\n",
            "112/112 [==============================] - 49s 440ms/step - loss: 0.2557 - accuracy: 0.8971 - val_loss: 0.1887 - val_accuracy: 0.9258\n"
          ],
          "name": "stdout"
        }
      ]
    },
    {
      "cell_type": "code",
      "metadata": {
        "colab": {
          "base_uri": "https://localhost:8080/"
        },
        "id": "YeLmT8Q1B5sI",
        "outputId": "916bdf10-7124-4822-cb32-5cf2f65570c3"
      },
      "source": [
        "y_test = generated_test_data.classes\n",
        "y_pred_vgg16 = model.predict(generated_test_data, verbose = 1)"
      ],
      "execution_count": null,
      "outputs": [
        {
          "output_type": "stream",
          "text": [
            "29/29 [==============================] - 12s 385ms/step\n"
          ],
          "name": "stdout"
        }
      ]
    },
    {
      "cell_type": "code",
      "metadata": {
        "colab": {
          "base_uri": "https://localhost:8080/"
        },
        "id": "01X5TgPSB5ub",
        "outputId": "89c44c7d-4b82-4696-f2ca-48292c0729d1"
      },
      "source": [
        "generated_train_data.class_indices.items()"
      ],
      "execution_count": null,
      "outputs": [
        {
          "output_type": "execute_result",
          "data": {
            "text/plain": [
              "dict_items([('car', 0), ('moto', 1)])"
            ]
          },
          "metadata": {
            "tags": []
          },
          "execution_count": 24
        }
      ]
    },
    {
      "cell_type": "code",
      "metadata": {
        "colab": {
          "base_uri": "https://localhost:8080/",
          "height": 665
        },
        "id": "8c4rPOa6B5w2",
        "outputId": "869ce3a9-ac26-4236-9ee7-c6e11b8bad9d"
      },
      "source": [
        "df = pd.DataFrame({\n",
        "    'Actual'     : generated_test_data.filenames, \n",
        "    'VGG16 prediction' : np.argmax(y_pred_vgg16, axis=1)\n",
        "})  \n",
        "df.head(20)"
      ],
      "execution_count": null,
      "outputs": [
        {
          "output_type": "execute_result",
          "data": {
            "text/html": [
              "<div>\n",
              "<style scoped>\n",
              "    .dataframe tbody tr th:only-of-type {\n",
              "        vertical-align: middle;\n",
              "    }\n",
              "\n",
              "    .dataframe tbody tr th {\n",
              "        vertical-align: top;\n",
              "    }\n",
              "\n",
              "    .dataframe thead th {\n",
              "        text-align: right;\n",
              "    }\n",
              "</style>\n",
              "<table border=\"1\" class=\"dataframe\">\n",
              "  <thead>\n",
              "    <tr style=\"text-align: right;\">\n",
              "      <th></th>\n",
              "      <th>Actual</th>\n",
              "      <th>VGG16 prediction</th>\n",
              "    </tr>\n",
              "  </thead>\n",
              "  <tbody>\n",
              "    <tr>\n",
              "      <th>0</th>\n",
              "      <td>car/car.1.jpg</td>\n",
              "      <td>0</td>\n",
              "    </tr>\n",
              "    <tr>\n",
              "      <th>1</th>\n",
              "      <td>car/car.10.jpg</td>\n",
              "      <td>0</td>\n",
              "    </tr>\n",
              "    <tr>\n",
              "      <th>2</th>\n",
              "      <td>car/car.100.jpg</td>\n",
              "      <td>0</td>\n",
              "    </tr>\n",
              "    <tr>\n",
              "      <th>3</th>\n",
              "      <td>car/car.101.jpg</td>\n",
              "      <td>0</td>\n",
              "    </tr>\n",
              "    <tr>\n",
              "      <th>4</th>\n",
              "      <td>car/car.102.jpg</td>\n",
              "      <td>0</td>\n",
              "    </tr>\n",
              "    <tr>\n",
              "      <th>5</th>\n",
              "      <td>car/car.103.jpg</td>\n",
              "      <td>0</td>\n",
              "    </tr>\n",
              "    <tr>\n",
              "      <th>6</th>\n",
              "      <td>car/car.104.jpg</td>\n",
              "      <td>0</td>\n",
              "    </tr>\n",
              "    <tr>\n",
              "      <th>7</th>\n",
              "      <td>car/car.105.jpg</td>\n",
              "      <td>0</td>\n",
              "    </tr>\n",
              "    <tr>\n",
              "      <th>8</th>\n",
              "      <td>car/car.106.jpg</td>\n",
              "      <td>0</td>\n",
              "    </tr>\n",
              "    <tr>\n",
              "      <th>9</th>\n",
              "      <td>car/car.107.jpg</td>\n",
              "      <td>0</td>\n",
              "    </tr>\n",
              "    <tr>\n",
              "      <th>10</th>\n",
              "      <td>car/car.108.jpg</td>\n",
              "      <td>0</td>\n",
              "    </tr>\n",
              "    <tr>\n",
              "      <th>11</th>\n",
              "      <td>car/car.109.jpg</td>\n",
              "      <td>0</td>\n",
              "    </tr>\n",
              "    <tr>\n",
              "      <th>12</th>\n",
              "      <td>car/car.11.jpg</td>\n",
              "      <td>0</td>\n",
              "    </tr>\n",
              "    <tr>\n",
              "      <th>13</th>\n",
              "      <td>car/car.110.jpg</td>\n",
              "      <td>0</td>\n",
              "    </tr>\n",
              "    <tr>\n",
              "      <th>14</th>\n",
              "      <td>car/car.111.jpg</td>\n",
              "      <td>0</td>\n",
              "    </tr>\n",
              "    <tr>\n",
              "      <th>15</th>\n",
              "      <td>car/car.112.jpg</td>\n",
              "      <td>0</td>\n",
              "    </tr>\n",
              "    <tr>\n",
              "      <th>16</th>\n",
              "      <td>car/car.113.jpg</td>\n",
              "      <td>0</td>\n",
              "    </tr>\n",
              "    <tr>\n",
              "      <th>17</th>\n",
              "      <td>car/car.114.jpg</td>\n",
              "      <td>0</td>\n",
              "    </tr>\n",
              "    <tr>\n",
              "      <th>18</th>\n",
              "      <td>car/car.115.jpg</td>\n",
              "      <td>0</td>\n",
              "    </tr>\n",
              "    <tr>\n",
              "      <th>19</th>\n",
              "      <td>car/car.116.jpg</td>\n",
              "      <td>0</td>\n",
              "    </tr>\n",
              "  </tbody>\n",
              "</table>\n",
              "</div>"
            ],
            "text/plain": [
              "             Actual  VGG16 prediction\n",
              "0     car/car.1.jpg                 0\n",
              "1    car/car.10.jpg                 0\n",
              "2   car/car.100.jpg                 0\n",
              "3   car/car.101.jpg                 0\n",
              "4   car/car.102.jpg                 0\n",
              "5   car/car.103.jpg                 0\n",
              "6   car/car.104.jpg                 0\n",
              "7   car/car.105.jpg                 0\n",
              "8   car/car.106.jpg                 0\n",
              "9   car/car.107.jpg                 0\n",
              "10  car/car.108.jpg                 0\n",
              "11  car/car.109.jpg                 0\n",
              "12   car/car.11.jpg                 0\n",
              "13  car/car.110.jpg                 0\n",
              "14  car/car.111.jpg                 0\n",
              "15  car/car.112.jpg                 0\n",
              "16  car/car.113.jpg                 0\n",
              "17  car/car.114.jpg                 0\n",
              "18  car/car.115.jpg                 0\n",
              "19  car/car.116.jpg                 0"
            ]
          },
          "metadata": {
            "tags": []
          },
          "execution_count": 25
        }
      ]
    },
    {
      "cell_type": "code",
      "metadata": {
        "colab": {
          "base_uri": "https://localhost:8080/",
          "height": 665
        },
        "id": "v1j2_E5kB5zM",
        "outputId": "856ab8b4-9572-4aab-a040-bd96bdeee197"
      },
      "source": [
        "df.tail(20)"
      ],
      "execution_count": null,
      "outputs": [
        {
          "output_type": "execute_result",
          "data": {
            "text/html": [
              "<div>\n",
              "<style scoped>\n",
              "    .dataframe tbody tr th:only-of-type {\n",
              "        vertical-align: middle;\n",
              "    }\n",
              "\n",
              "    .dataframe tbody tr th {\n",
              "        vertical-align: top;\n",
              "    }\n",
              "\n",
              "    .dataframe thead th {\n",
              "        text-align: right;\n",
              "    }\n",
              "</style>\n",
              "<table border=\"1\" class=\"dataframe\">\n",
              "  <thead>\n",
              "    <tr style=\"text-align: right;\">\n",
              "      <th></th>\n",
              "      <th>Actual</th>\n",
              "      <th>VGG16 prediction</th>\n",
              "    </tr>\n",
              "  </thead>\n",
              "  <tbody>\n",
              "    <tr>\n",
              "      <th>880</th>\n",
              "      <td>moto/moto.81.jpg</td>\n",
              "      <td>1</td>\n",
              "    </tr>\n",
              "    <tr>\n",
              "      <th>881</th>\n",
              "      <td>moto/moto.82.jpg</td>\n",
              "      <td>1</td>\n",
              "    </tr>\n",
              "    <tr>\n",
              "      <th>882</th>\n",
              "      <td>moto/moto.83.jpg</td>\n",
              "      <td>1</td>\n",
              "    </tr>\n",
              "    <tr>\n",
              "      <th>883</th>\n",
              "      <td>moto/moto.84.jpg</td>\n",
              "      <td>1</td>\n",
              "    </tr>\n",
              "    <tr>\n",
              "      <th>884</th>\n",
              "      <td>moto/moto.85.jpg</td>\n",
              "      <td>1</td>\n",
              "    </tr>\n",
              "    <tr>\n",
              "      <th>885</th>\n",
              "      <td>moto/moto.86.jpg</td>\n",
              "      <td>1</td>\n",
              "    </tr>\n",
              "    <tr>\n",
              "      <th>886</th>\n",
              "      <td>moto/moto.87.jpg</td>\n",
              "      <td>1</td>\n",
              "    </tr>\n",
              "    <tr>\n",
              "      <th>887</th>\n",
              "      <td>moto/moto.88.jpg</td>\n",
              "      <td>1</td>\n",
              "    </tr>\n",
              "    <tr>\n",
              "      <th>888</th>\n",
              "      <td>moto/moto.89.jpg</td>\n",
              "      <td>1</td>\n",
              "    </tr>\n",
              "    <tr>\n",
              "      <th>889</th>\n",
              "      <td>moto/moto.9.jpg</td>\n",
              "      <td>1</td>\n",
              "    </tr>\n",
              "    <tr>\n",
              "      <th>890</th>\n",
              "      <td>moto/moto.90.jpg</td>\n",
              "      <td>0</td>\n",
              "    </tr>\n",
              "    <tr>\n",
              "      <th>891</th>\n",
              "      <td>moto/moto.91.jpg</td>\n",
              "      <td>0</td>\n",
              "    </tr>\n",
              "    <tr>\n",
              "      <th>892</th>\n",
              "      <td>moto/moto.92.jpg</td>\n",
              "      <td>1</td>\n",
              "    </tr>\n",
              "    <tr>\n",
              "      <th>893</th>\n",
              "      <td>moto/moto.93.jpg</td>\n",
              "      <td>0</td>\n",
              "    </tr>\n",
              "    <tr>\n",
              "      <th>894</th>\n",
              "      <td>moto/moto.94.jpg</td>\n",
              "      <td>0</td>\n",
              "    </tr>\n",
              "    <tr>\n",
              "      <th>895</th>\n",
              "      <td>moto/moto.95.jpg</td>\n",
              "      <td>1</td>\n",
              "    </tr>\n",
              "    <tr>\n",
              "      <th>896</th>\n",
              "      <td>moto/moto.96.jpg</td>\n",
              "      <td>0</td>\n",
              "    </tr>\n",
              "    <tr>\n",
              "      <th>897</th>\n",
              "      <td>moto/moto.97.jpg</td>\n",
              "      <td>1</td>\n",
              "    </tr>\n",
              "    <tr>\n",
              "      <th>898</th>\n",
              "      <td>moto/moto.98.jpg</td>\n",
              "      <td>1</td>\n",
              "    </tr>\n",
              "    <tr>\n",
              "      <th>899</th>\n",
              "      <td>moto/moto.99.jpg</td>\n",
              "      <td>1</td>\n",
              "    </tr>\n",
              "  </tbody>\n",
              "</table>\n",
              "</div>"
            ],
            "text/plain": [
              "               Actual  VGG16 prediction\n",
              "880  moto/moto.81.jpg                 1\n",
              "881  moto/moto.82.jpg                 1\n",
              "882  moto/moto.83.jpg                 1\n",
              "883  moto/moto.84.jpg                 1\n",
              "884  moto/moto.85.jpg                 1\n",
              "885  moto/moto.86.jpg                 1\n",
              "886  moto/moto.87.jpg                 1\n",
              "887  moto/moto.88.jpg                 1\n",
              "888  moto/moto.89.jpg                 1\n",
              "889   moto/moto.9.jpg                 1\n",
              "890  moto/moto.90.jpg                 0\n",
              "891  moto/moto.91.jpg                 0\n",
              "892  moto/moto.92.jpg                 1\n",
              "893  moto/moto.93.jpg                 0\n",
              "894  moto/moto.94.jpg                 0\n",
              "895  moto/moto.95.jpg                 1\n",
              "896  moto/moto.96.jpg                 0\n",
              "897  moto/moto.97.jpg                 1\n",
              "898  moto/moto.98.jpg                 1\n",
              "899  moto/moto.99.jpg                 1"
            ]
          },
          "metadata": {
            "tags": []
          },
          "execution_count": 26
        }
      ]
    },
    {
      "cell_type": "code",
      "metadata": {
        "colab": {
          "base_uri": "https://localhost:8080/"
        },
        "id": "W3W2UKCOB51Q",
        "outputId": "4fb765ea-426b-4640-de8c-7a82c5154894"
      },
      "source": [
        "from sklearn.metrics import classification_report, confusion_matrix\n",
        "from sklearn.metrics import plot_confusion_matrix\n",
        "import seaborn as sns\n",
        "\n",
        "cf_matrix_vgg16 = confusion_matrix(y_test, np.argmax(y_pred_vgg16, axis=1))\n",
        "print(classification_report(y_test, np.argmax(y_pred_vgg16, axis=1)))"
      ],
      "execution_count": null,
      "outputs": [
        {
          "output_type": "stream",
          "text": [
            "              precision    recall  f1-score   support\n",
            "\n",
            "           0       0.89      0.94      0.91       450\n",
            "           1       0.93      0.88      0.91       450\n",
            "\n",
            "    accuracy                           0.91       900\n",
            "   macro avg       0.91      0.91      0.91       900\n",
            "weighted avg       0.91      0.91      0.91       900\n",
            "\n"
          ],
          "name": "stdout"
        }
      ]
    },
    {
      "cell_type": "code",
      "metadata": {
        "colab": {
          "base_uri": "https://localhost:8080/"
        },
        "id": "34HKhmqaB53X",
        "outputId": "c9ad9150-f28f-4cff-f05d-edb4f17bd010"
      },
      "source": [
        "import h5py\n",
        "import numpy as np\n",
        "from keras.models import load_model\n",
        "\n",
        "model_done = load_model(MODELS_PATH + 'model_trainVGG16.h5')\n",
        "# model_done.summary()\n",
        "cnt = 0\n",
        "for layer in model_done.layers:\n",
        " \n",
        "\n",
        "  # check for convolutional layer\n",
        "  if 'conv' not in layer.name:\n",
        "    continue\n",
        "  # get filter weights\n",
        "  filters, biases = layer.get_weights()\n",
        "  print(layer.name, filters.shape)\n",
        "  print(len(filters), len(biases))"
      ],
      "execution_count": null,
      "outputs": [
        {
          "output_type": "stream",
          "text": [
            "block1_conv1 (3, 3, 3, 8)\n",
            "3 8\n",
            "block1_conv2 (3, 3, 8, 8)\n",
            "3 8\n",
            "block2_conv1 (3, 3, 8, 16)\n",
            "3 16\n",
            "block2_conv2 (3, 3, 16, 16)\n",
            "3 16\n",
            "block3_conv1 (3, 3, 16, 32)\n",
            "3 32\n",
            "block3_conv2 (3, 3, 32, 32)\n",
            "3 32\n",
            "block3_conv3 (3, 3, 32, 32)\n",
            "3 32\n",
            "block4_conv1 (3, 3, 32, 64)\n",
            "3 64\n",
            "block4_conv2 (3, 3, 64, 64)\n",
            "3 64\n",
            "block4_conv3 (3, 3, 64, 64)\n",
            "3 64\n",
            "block5_conv1 (3, 3, 64, 64)\n",
            "3 64\n",
            "block5_conv2 (3, 3, 64, 64)\n",
            "3 64\n",
            "block5_conv3 (3, 3, 64, 64)\n",
            "3 64\n"
          ],
          "name": "stdout"
        }
      ]
    }
  ]
}